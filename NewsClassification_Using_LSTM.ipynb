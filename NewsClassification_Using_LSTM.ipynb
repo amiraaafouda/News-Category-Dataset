{
  "cells": [
    {
      "cell_type": "markdown",
      "metadata": {
        "id": "eduI1Kbxyjyq"
      },
      "source": [
        "### Objective:\n",
        "- The objective from this task is to use your NLP skills to build a ML model can <b>classify the news categories</b>.\n",
        "- Try hard to get the maximum value of the preferable evaluation metric using any technique.\n",
        "- <b>Concat headlines and short descriptions</b> and use them in classification. "
      ]
    },
    {
      "cell_type": "markdown",
      "source": [
        "> ### Take a deep breath, read the instructions again, and then start"
      ],
      "metadata": {
        "id": "74XgKj5-5M3I"
      }
    },
    {
      "cell_type": "code",
      "source": [
        "from google.colab import drive\n",
        "drive.mount('/content/drive')"
      ],
      "metadata": {
        "colab": {
          "base_uri": "https://localhost:8080/"
        },
        "id": "7ivLcBDGh22G",
        "outputId": "e609c4d3-18af-4e6d-a5bd-bf98975becaa"
      },
      "execution_count": null,
      "outputs": [
        {
          "output_type": "stream",
          "name": "stdout",
          "text": [
            "Mounted at /content/drive\n"
          ]
        }
      ]
    },
    {
      "cell_type": "markdown",
      "source": [
        "## Load Libraries"
      ],
      "metadata": {
        "id": "u-PT_N_B5zlJ"
      }
    },
    {
      "cell_type": "code",
      "source": [
        "import pandas as pd \n",
        "import tensorflow as tf\n",
        "from tensorflow import keras\n",
        "import numpy as np \n",
        "import matplotlib.pyplot as plt\n",
        "import os\n",
        "\n",
        "from tensorflow.keras.preprocessing.text import Tokenizer\n",
        "from tensorflow.keras.preprocessing.sequence import pad_sequences\n",
        "from sklearn.model_selection import train_test_split\n",
        "from sklearn.metrics import classification_report, confusion_matrix\n",
        "from tensorflow.keras.layers import Embedding\n",
        "import seaborn as sns\n",
        "pd.set_option('display.max_colwidth', -1)\n",
        "\n"
      ],
      "metadata": {
        "id": "a7PbDuob3Xqo",
        "colab": {
          "base_uri": "https://localhost:8080/"
        },
        "outputId": "27a023fb-d377-49b1-c3f8-c09259f54ed1"
      },
      "execution_count": null,
      "outputs": [
        {
          "output_type": "stream",
          "name": "stderr",
          "text": [
            "/usr/local/lib/python3.7/dist-packages/ipykernel_launcher.py:14: FutureWarning: Passing a negative integer is deprecated in version 1.0 and will not be supported in future version. Instead, use None to not limit the column width.\n",
            "  \n"
          ]
        }
      ]
    },
    {
      "cell_type": "code",
      "source": [
        "import spacy\n",
        "import pandas as pd\n",
        "import numpy as np\n",
        "import tensorflow as tf\n",
        "from tensorflow.keras.layers import LSTM, GRU, Dense, Embedding, Dropout\n",
        "from tensorflow.keras.preprocessing import text, sequence \n",
        "from tensorflow.keras.models import Sequential\n",
        "from sklearn.model_selection import train_test_split\n",
        "import pandas as pd\n",
        "import numpy as np\n",
        "#for text cleaning\n",
        "import string\n",
        "import re\n",
        "import nltk\n",
        "from nltk.tokenize import word_tokenize\n",
        "from nltk.corpus import stopwords\n",
        "#for visualization\n",
        "import matplotlib.pyplot as plt\n",
        "from nltk.stem import WordNetLemmatizer \n",
        "from nltk.corpus import stopwords\n",
        "\n",
        "\n",
        "import tensorflow as tf\n",
        "from tensorflow.keras import models\n",
        "from tensorflow.keras import layers\n",
        "from tensorflow.keras import losses\n",
        "from tensorflow.keras import metrics\n",
        "from tensorflow.keras import optimizers\n",
        "from tensorflow.keras.callbacks import EarlyStopping\n",
        "from tensorflow.keras.preprocessing.sequence import pad_sequences\n",
        "from tensorflow.keras.preprocessing.text import Tokenizer\n",
        "\n",
        "\n",
        "from sklearn.model_selection import train_test_split\n",
        "from sklearn.metrics import classification_report\n",
        "from gensim import models\n",
        "from sklearn.linear_model import LogisticRegression\n",
        "import numpy as np\n",
        "from nltk.tokenize import word_tokenize\n",
        "from nltk.corpus import stopwords\n",
        "from sklearn.metrics import accuracy_score ,confusion_matrix\n",
        "import time\n",
        "from sklearn.manifold import TSNE\n",
        "from google.colab import files\n",
        "from sklearn.model_selection import train_test_split\n",
        "from sklearn.metrics import confusion_matrix,recall_score,accuracy_score,precision_score\n",
        "from mlxtend.plotting import plot_confusion_matrix\n",
        "import tensorflow as tf\n",
        "from tensorflow.keras.models import Model,Sequential\n",
        "from tensorflow.keras.layers import Embedding,Dense,LSTM,Dropout,GlobalAveragePooling1D,Bidirectional\n",
        "from tensorflow.keras.preprocessing.text import Tokenizer\n",
        "from tensorflow.keras.optimizers import Adam\n",
        "from tensorflow.keras.preprocessing.sequence import pad_sequences\n",
        "from tensorflow.keras.callbacks import ModelCheckpoint,EarlyStopping\n",
        "from tensorflow.keras.utils import plot_model"
      ],
      "metadata": {
        "id": "2VvTDrDXU65h"
      },
      "execution_count": null,
      "outputs": []
    },
    {
      "cell_type": "markdown",
      "source": [
        "## Load Dataset"
      ],
      "metadata": {
        "id": "MGy_FvHj52cp"
      }
    },
    {
      "cell_type": "code",
      "source": [
        "dataset = pd.read_json('/content/drive/MyDrive/Final Task/Dataset.json', lines=True)\n",
        "\n",
        "dataset.head()"
      ],
      "metadata": {
        "id": "LlCwFrw654CY",
        "colab": {
          "base_uri": "https://localhost:8080/",
          "height": 597
        },
        "outputId": "d18e4a39-3b12-41a3-ac20-0fd9298b890a"
      },
      "execution_count": null,
      "outputs": [
        {
          "output_type": "execute_result",
          "data": {
            "text/plain": [
              "        category  \\\n",
              "0  CRIME           \n",
              "1  ENTERTAINMENT   \n",
              "2  ENTERTAINMENT   \n",
              "3  ENTERTAINMENT   \n",
              "4  ENTERTAINMENT   \n",
              "\n",
              "                                                                      headline  \\\n",
              "0  There Were 2 Mass Shootings In Texas Last Week, But Only 1 On TV              \n",
              "1  Will Smith Joins Diplo And Nicky Jam For The 2018 World Cup's Official Song   \n",
              "2  Hugh Grant Marries For The First Time At Age 57                               \n",
              "3  Jim Carrey Blasts 'Castrato' Adam Schiff And Democrats In New Artwork         \n",
              "4  Julianna Margulies Uses Donald Trump Poop Bags To Pick Up After Her Dog       \n",
              "\n",
              "           authors  \\\n",
              "0  Melissa Jeltsen   \n",
              "1  Andy McDonald     \n",
              "2  Ron Dicker        \n",
              "3  Ron Dicker        \n",
              "4  Ron Dicker        \n",
              "\n",
              "                                                                                                                                         link  \\\n",
              "0  https://www.huffingtonpost.com/entry/texas-amanda-painter-mass-shooting_us_5b081ab4e4b0802d69caad89                                          \n",
              "1  https://www.huffingtonpost.com/entry/will-smith-joins-diplo-and-nicky-jam-for-the-official-2018-world-cup-song_us_5b09726fe4b0fdb2aa541201   \n",
              "2  https://www.huffingtonpost.com/entry/hugh-grant-marries_us_5b09212ce4b0568a880b9a8c                                                          \n",
              "3  https://www.huffingtonpost.com/entry/jim-carrey-adam-schiff-democrats_us_5b0950e8e4b0fdb2aa53e675                                            \n",
              "4  https://www.huffingtonpost.com/entry/julianna-margulies-trump-poop-bag_us_5b093ec2e4b0fdb2aa53df70                                           \n",
              "\n",
              "                                                                         short_description  \\\n",
              "0  She left her husband. He killed their children. Just another day in America.              \n",
              "1  Of course it has a song.                                                                  \n",
              "2  The actor and his longtime girlfriend Anna Eberstein tied the knot in a civil ceremony.   \n",
              "3  The actor gives Dems an ass-kicking for not fighting hard enough against Donald Trump.    \n",
              "4  The \"Dietland\" actress said using the bags is a \"really cathartic, therapeutic moment.\"   \n",
              "\n",
              "        date  \n",
              "0 2018-05-26  \n",
              "1 2018-05-26  \n",
              "2 2018-05-26  \n",
              "3 2018-05-26  \n",
              "4 2018-05-26  "
            ],
            "text/html": [
              "\n",
              "  <div id=\"df-414e8f2b-bece-4921-b888-46de8874780c\">\n",
              "    <div class=\"colab-df-container\">\n",
              "      <div>\n",
              "<style scoped>\n",
              "    .dataframe tbody tr th:only-of-type {\n",
              "        vertical-align: middle;\n",
              "    }\n",
              "\n",
              "    .dataframe tbody tr th {\n",
              "        vertical-align: top;\n",
              "    }\n",
              "\n",
              "    .dataframe thead th {\n",
              "        text-align: right;\n",
              "    }\n",
              "</style>\n",
              "<table border=\"1\" class=\"dataframe\">\n",
              "  <thead>\n",
              "    <tr style=\"text-align: right;\">\n",
              "      <th></th>\n",
              "      <th>category</th>\n",
              "      <th>headline</th>\n",
              "      <th>authors</th>\n",
              "      <th>link</th>\n",
              "      <th>short_description</th>\n",
              "      <th>date</th>\n",
              "    </tr>\n",
              "  </thead>\n",
              "  <tbody>\n",
              "    <tr>\n",
              "      <th>0</th>\n",
              "      <td>CRIME</td>\n",
              "      <td>There Were 2 Mass Shootings In Texas Last Week, But Only 1 On TV</td>\n",
              "      <td>Melissa Jeltsen</td>\n",
              "      <td>https://www.huffingtonpost.com/entry/texas-amanda-painter-mass-shooting_us_5b081ab4e4b0802d69caad89</td>\n",
              "      <td>She left her husband. He killed their children. Just another day in America.</td>\n",
              "      <td>2018-05-26</td>\n",
              "    </tr>\n",
              "    <tr>\n",
              "      <th>1</th>\n",
              "      <td>ENTERTAINMENT</td>\n",
              "      <td>Will Smith Joins Diplo And Nicky Jam For The 2018 World Cup's Official Song</td>\n",
              "      <td>Andy McDonald</td>\n",
              "      <td>https://www.huffingtonpost.com/entry/will-smith-joins-diplo-and-nicky-jam-for-the-official-2018-world-cup-song_us_5b09726fe4b0fdb2aa541201</td>\n",
              "      <td>Of course it has a song.</td>\n",
              "      <td>2018-05-26</td>\n",
              "    </tr>\n",
              "    <tr>\n",
              "      <th>2</th>\n",
              "      <td>ENTERTAINMENT</td>\n",
              "      <td>Hugh Grant Marries For The First Time At Age 57</td>\n",
              "      <td>Ron Dicker</td>\n",
              "      <td>https://www.huffingtonpost.com/entry/hugh-grant-marries_us_5b09212ce4b0568a880b9a8c</td>\n",
              "      <td>The actor and his longtime girlfriend Anna Eberstein tied the knot in a civil ceremony.</td>\n",
              "      <td>2018-05-26</td>\n",
              "    </tr>\n",
              "    <tr>\n",
              "      <th>3</th>\n",
              "      <td>ENTERTAINMENT</td>\n",
              "      <td>Jim Carrey Blasts 'Castrato' Adam Schiff And Democrats In New Artwork</td>\n",
              "      <td>Ron Dicker</td>\n",
              "      <td>https://www.huffingtonpost.com/entry/jim-carrey-adam-schiff-democrats_us_5b0950e8e4b0fdb2aa53e675</td>\n",
              "      <td>The actor gives Dems an ass-kicking for not fighting hard enough against Donald Trump.</td>\n",
              "      <td>2018-05-26</td>\n",
              "    </tr>\n",
              "    <tr>\n",
              "      <th>4</th>\n",
              "      <td>ENTERTAINMENT</td>\n",
              "      <td>Julianna Margulies Uses Donald Trump Poop Bags To Pick Up After Her Dog</td>\n",
              "      <td>Ron Dicker</td>\n",
              "      <td>https://www.huffingtonpost.com/entry/julianna-margulies-trump-poop-bag_us_5b093ec2e4b0fdb2aa53df70</td>\n",
              "      <td>The \"Dietland\" actress said using the bags is a \"really cathartic, therapeutic moment.\"</td>\n",
              "      <td>2018-05-26</td>\n",
              "    </tr>\n",
              "  </tbody>\n",
              "</table>\n",
              "</div>\n",
              "      <button class=\"colab-df-convert\" onclick=\"convertToInteractive('df-414e8f2b-bece-4921-b888-46de8874780c')\"\n",
              "              title=\"Convert this dataframe to an interactive table.\"\n",
              "              style=\"display:none;\">\n",
              "        \n",
              "  <svg xmlns=\"http://www.w3.org/2000/svg\" height=\"24px\"viewBox=\"0 0 24 24\"\n",
              "       width=\"24px\">\n",
              "    <path d=\"M0 0h24v24H0V0z\" fill=\"none\"/>\n",
              "    <path d=\"M18.56 5.44l.94 2.06.94-2.06 2.06-.94-2.06-.94-.94-2.06-.94 2.06-2.06.94zm-11 1L8.5 8.5l.94-2.06 2.06-.94-2.06-.94L8.5 2.5l-.94 2.06-2.06.94zm10 10l.94 2.06.94-2.06 2.06-.94-2.06-.94-.94-2.06-.94 2.06-2.06.94z\"/><path d=\"M17.41 7.96l-1.37-1.37c-.4-.4-.92-.59-1.43-.59-.52 0-1.04.2-1.43.59L10.3 9.45l-7.72 7.72c-.78.78-.78 2.05 0 2.83L4 21.41c.39.39.9.59 1.41.59.51 0 1.02-.2 1.41-.59l7.78-7.78 2.81-2.81c.8-.78.8-2.07 0-2.86zM5.41 20L4 18.59l7.72-7.72 1.47 1.35L5.41 20z\"/>\n",
              "  </svg>\n",
              "      </button>\n",
              "      \n",
              "  <style>\n",
              "    .colab-df-container {\n",
              "      display:flex;\n",
              "      flex-wrap:wrap;\n",
              "      gap: 12px;\n",
              "    }\n",
              "\n",
              "    .colab-df-convert {\n",
              "      background-color: #E8F0FE;\n",
              "      border: none;\n",
              "      border-radius: 50%;\n",
              "      cursor: pointer;\n",
              "      display: none;\n",
              "      fill: #1967D2;\n",
              "      height: 32px;\n",
              "      padding: 0 0 0 0;\n",
              "      width: 32px;\n",
              "    }\n",
              "\n",
              "    .colab-df-convert:hover {\n",
              "      background-color: #E2EBFA;\n",
              "      box-shadow: 0px 1px 2px rgba(60, 64, 67, 0.3), 0px 1px 3px 1px rgba(60, 64, 67, 0.15);\n",
              "      fill: #174EA6;\n",
              "    }\n",
              "\n",
              "    [theme=dark] .colab-df-convert {\n",
              "      background-color: #3B4455;\n",
              "      fill: #D2E3FC;\n",
              "    }\n",
              "\n",
              "    [theme=dark] .colab-df-convert:hover {\n",
              "      background-color: #434B5C;\n",
              "      box-shadow: 0px 1px 3px 1px rgba(0, 0, 0, 0.15);\n",
              "      filter: drop-shadow(0px 1px 2px rgba(0, 0, 0, 0.3));\n",
              "      fill: #FFFFFF;\n",
              "    }\n",
              "  </style>\n",
              "\n",
              "      <script>\n",
              "        const buttonEl =\n",
              "          document.querySelector('#df-414e8f2b-bece-4921-b888-46de8874780c button.colab-df-convert');\n",
              "        buttonEl.style.display =\n",
              "          google.colab.kernel.accessAllowed ? 'block' : 'none';\n",
              "\n",
              "        async function convertToInteractive(key) {\n",
              "          const element = document.querySelector('#df-414e8f2b-bece-4921-b888-46de8874780c');\n",
              "          const dataTable =\n",
              "            await google.colab.kernel.invokeFunction('convertToInteractive',\n",
              "                                                     [key], {});\n",
              "          if (!dataTable) return;\n",
              "\n",
              "          const docLinkHtml = 'Like what you see? Visit the ' +\n",
              "            '<a target=\"_blank\" href=https://colab.research.google.com/notebooks/data_table.ipynb>data table notebook</a>'\n",
              "            + ' to learn more about interactive tables.';\n",
              "          element.innerHTML = '';\n",
              "          dataTable['output_type'] = 'display_data';\n",
              "          await google.colab.output.renderOutput(dataTable, element);\n",
              "          const docLink = document.createElement('div');\n",
              "          docLink.innerHTML = docLinkHtml;\n",
              "          element.appendChild(docLink);\n",
              "        }\n",
              "      </script>\n",
              "    </div>\n",
              "  </div>\n",
              "  "
            ]
          },
          "metadata": {},
          "execution_count": 29
        }
      ]
    },
    {
      "cell_type": "code",
      "source": [
        ""
      ],
      "metadata": {
        "id": "Z7hoIeiFzzFP"
      },
      "execution_count": null,
      "outputs": []
    },
    {
      "cell_type": "markdown",
      "source": [
        "## EDA"
      ],
      "metadata": {
        "id": "qynzn9N355a9"
      }
    },
    {
      "cell_type": "code",
      "source": [
        " dataset.isnull().sum()"
      ],
      "metadata": {
        "id": "wpr2Gg8B548V",
        "colab": {
          "base_uri": "https://localhost:8080/"
        },
        "outputId": "7531ebdf-7d5f-4650-b3ef-e8139ac92dde"
      },
      "execution_count": null,
      "outputs": [
        {
          "output_type": "execute_result",
          "data": {
            "text/plain": [
              "category             0\n",
              "headline             0\n",
              "authors              0\n",
              "link                 0\n",
              "short_description    0\n",
              "date                 0\n",
              "dtype: int64"
            ]
          },
          "metadata": {},
          "execution_count": 30
        }
      ]
    },
    {
      "cell_type": "code",
      "source": [
        "dataset=dataset.drop(['authors','link','date'],axis=1)"
      ],
      "metadata": {
        "id": "5BKuvZ1wz2et"
      },
      "execution_count": null,
      "outputs": []
    },
    {
      "cell_type": "code",
      "source": [
        "dataset.head()"
      ],
      "metadata": {
        "colab": {
          "base_uri": "https://localhost:8080/",
          "height": 337
        },
        "id": "1Yes39dKz9Cx",
        "outputId": "f3eafd66-6d46-4953-d69e-757f302be38b"
      },
      "execution_count": null,
      "outputs": [
        {
          "output_type": "execute_result",
          "data": {
            "text/plain": [
              "        category  \\\n",
              "0  CRIME           \n",
              "1  ENTERTAINMENT   \n",
              "2  ENTERTAINMENT   \n",
              "3  ENTERTAINMENT   \n",
              "4  ENTERTAINMENT   \n",
              "\n",
              "                                                                      headline  \\\n",
              "0  There Were 2 Mass Shootings In Texas Last Week, But Only 1 On TV              \n",
              "1  Will Smith Joins Diplo And Nicky Jam For The 2018 World Cup's Official Song   \n",
              "2  Hugh Grant Marries For The First Time At Age 57                               \n",
              "3  Jim Carrey Blasts 'Castrato' Adam Schiff And Democrats In New Artwork         \n",
              "4  Julianna Margulies Uses Donald Trump Poop Bags To Pick Up After Her Dog       \n",
              "\n",
              "                                                                         short_description  \n",
              "0  She left her husband. He killed their children. Just another day in America.             \n",
              "1  Of course it has a song.                                                                 \n",
              "2  The actor and his longtime girlfriend Anna Eberstein tied the knot in a civil ceremony.  \n",
              "3  The actor gives Dems an ass-kicking for not fighting hard enough against Donald Trump.   \n",
              "4  The \"Dietland\" actress said using the bags is a \"really cathartic, therapeutic moment.\"  "
            ],
            "text/html": [
              "\n",
              "  <div id=\"df-dc119f82-0ecc-4a62-ac60-0bb196ca70c8\">\n",
              "    <div class=\"colab-df-container\">\n",
              "      <div>\n",
              "<style scoped>\n",
              "    .dataframe tbody tr th:only-of-type {\n",
              "        vertical-align: middle;\n",
              "    }\n",
              "\n",
              "    .dataframe tbody tr th {\n",
              "        vertical-align: top;\n",
              "    }\n",
              "\n",
              "    .dataframe thead th {\n",
              "        text-align: right;\n",
              "    }\n",
              "</style>\n",
              "<table border=\"1\" class=\"dataframe\">\n",
              "  <thead>\n",
              "    <tr style=\"text-align: right;\">\n",
              "      <th></th>\n",
              "      <th>category</th>\n",
              "      <th>headline</th>\n",
              "      <th>short_description</th>\n",
              "    </tr>\n",
              "  </thead>\n",
              "  <tbody>\n",
              "    <tr>\n",
              "      <th>0</th>\n",
              "      <td>CRIME</td>\n",
              "      <td>There Were 2 Mass Shootings In Texas Last Week, But Only 1 On TV</td>\n",
              "      <td>She left her husband. He killed their children. Just another day in America.</td>\n",
              "    </tr>\n",
              "    <tr>\n",
              "      <th>1</th>\n",
              "      <td>ENTERTAINMENT</td>\n",
              "      <td>Will Smith Joins Diplo And Nicky Jam For The 2018 World Cup's Official Song</td>\n",
              "      <td>Of course it has a song.</td>\n",
              "    </tr>\n",
              "    <tr>\n",
              "      <th>2</th>\n",
              "      <td>ENTERTAINMENT</td>\n",
              "      <td>Hugh Grant Marries For The First Time At Age 57</td>\n",
              "      <td>The actor and his longtime girlfriend Anna Eberstein tied the knot in a civil ceremony.</td>\n",
              "    </tr>\n",
              "    <tr>\n",
              "      <th>3</th>\n",
              "      <td>ENTERTAINMENT</td>\n",
              "      <td>Jim Carrey Blasts 'Castrato' Adam Schiff And Democrats In New Artwork</td>\n",
              "      <td>The actor gives Dems an ass-kicking for not fighting hard enough against Donald Trump.</td>\n",
              "    </tr>\n",
              "    <tr>\n",
              "      <th>4</th>\n",
              "      <td>ENTERTAINMENT</td>\n",
              "      <td>Julianna Margulies Uses Donald Trump Poop Bags To Pick Up After Her Dog</td>\n",
              "      <td>The \"Dietland\" actress said using the bags is a \"really cathartic, therapeutic moment.\"</td>\n",
              "    </tr>\n",
              "  </tbody>\n",
              "</table>\n",
              "</div>\n",
              "      <button class=\"colab-df-convert\" onclick=\"convertToInteractive('df-dc119f82-0ecc-4a62-ac60-0bb196ca70c8')\"\n",
              "              title=\"Convert this dataframe to an interactive table.\"\n",
              "              style=\"display:none;\">\n",
              "        \n",
              "  <svg xmlns=\"http://www.w3.org/2000/svg\" height=\"24px\"viewBox=\"0 0 24 24\"\n",
              "       width=\"24px\">\n",
              "    <path d=\"M0 0h24v24H0V0z\" fill=\"none\"/>\n",
              "    <path d=\"M18.56 5.44l.94 2.06.94-2.06 2.06-.94-2.06-.94-.94-2.06-.94 2.06-2.06.94zm-11 1L8.5 8.5l.94-2.06 2.06-.94-2.06-.94L8.5 2.5l-.94 2.06-2.06.94zm10 10l.94 2.06.94-2.06 2.06-.94-2.06-.94-.94-2.06-.94 2.06-2.06.94z\"/><path d=\"M17.41 7.96l-1.37-1.37c-.4-.4-.92-.59-1.43-.59-.52 0-1.04.2-1.43.59L10.3 9.45l-7.72 7.72c-.78.78-.78 2.05 0 2.83L4 21.41c.39.39.9.59 1.41.59.51 0 1.02-.2 1.41-.59l7.78-7.78 2.81-2.81c.8-.78.8-2.07 0-2.86zM5.41 20L4 18.59l7.72-7.72 1.47 1.35L5.41 20z\"/>\n",
              "  </svg>\n",
              "      </button>\n",
              "      \n",
              "  <style>\n",
              "    .colab-df-container {\n",
              "      display:flex;\n",
              "      flex-wrap:wrap;\n",
              "      gap: 12px;\n",
              "    }\n",
              "\n",
              "    .colab-df-convert {\n",
              "      background-color: #E8F0FE;\n",
              "      border: none;\n",
              "      border-radius: 50%;\n",
              "      cursor: pointer;\n",
              "      display: none;\n",
              "      fill: #1967D2;\n",
              "      height: 32px;\n",
              "      padding: 0 0 0 0;\n",
              "      width: 32px;\n",
              "    }\n",
              "\n",
              "    .colab-df-convert:hover {\n",
              "      background-color: #E2EBFA;\n",
              "      box-shadow: 0px 1px 2px rgba(60, 64, 67, 0.3), 0px 1px 3px 1px rgba(60, 64, 67, 0.15);\n",
              "      fill: #174EA6;\n",
              "    }\n",
              "\n",
              "    [theme=dark] .colab-df-convert {\n",
              "      background-color: #3B4455;\n",
              "      fill: #D2E3FC;\n",
              "    }\n",
              "\n",
              "    [theme=dark] .colab-df-convert:hover {\n",
              "      background-color: #434B5C;\n",
              "      box-shadow: 0px 1px 3px 1px rgba(0, 0, 0, 0.15);\n",
              "      filter: drop-shadow(0px 1px 2px rgba(0, 0, 0, 0.3));\n",
              "      fill: #FFFFFF;\n",
              "    }\n",
              "  </style>\n",
              "\n",
              "      <script>\n",
              "        const buttonEl =\n",
              "          document.querySelector('#df-dc119f82-0ecc-4a62-ac60-0bb196ca70c8 button.colab-df-convert');\n",
              "        buttonEl.style.display =\n",
              "          google.colab.kernel.accessAllowed ? 'block' : 'none';\n",
              "\n",
              "        async function convertToInteractive(key) {\n",
              "          const element = document.querySelector('#df-dc119f82-0ecc-4a62-ac60-0bb196ca70c8');\n",
              "          const dataTable =\n",
              "            await google.colab.kernel.invokeFunction('convertToInteractive',\n",
              "                                                     [key], {});\n",
              "          if (!dataTable) return;\n",
              "\n",
              "          const docLinkHtml = 'Like what you see? Visit the ' +\n",
              "            '<a target=\"_blank\" href=https://colab.research.google.com/notebooks/data_table.ipynb>data table notebook</a>'\n",
              "            + ' to learn more about interactive tables.';\n",
              "          element.innerHTML = '';\n",
              "          dataTable['output_type'] = 'display_data';\n",
              "          await google.colab.output.renderOutput(dataTable, element);\n",
              "          const docLink = document.createElement('div');\n",
              "          docLink.innerHTML = docLinkHtml;\n",
              "          element.appendChild(docLink);\n",
              "        }\n",
              "      </script>\n",
              "    </div>\n",
              "  </div>\n",
              "  "
            ]
          },
          "metadata": {},
          "execution_count": 32
        }
      ]
    },
    {
      "cell_type": "code",
      "source": [
        "dataset.info()"
      ],
      "metadata": {
        "id": "Qvw_IKKK56YX",
        "colab": {
          "base_uri": "https://localhost:8080/"
        },
        "outputId": "23750bb0-0b16-43bd-aa48-13e8821bcbd1"
      },
      "execution_count": null,
      "outputs": [
        {
          "output_type": "stream",
          "name": "stdout",
          "text": [
            "<class 'pandas.core.frame.DataFrame'>\n",
            "RangeIndex: 200853 entries, 0 to 200852\n",
            "Data columns (total 3 columns):\n",
            " #   Column             Non-Null Count   Dtype \n",
            "---  ------             --------------   ----- \n",
            " 0   category           200853 non-null  object\n",
            " 1   headline           200853 non-null  object\n",
            " 2   short_description  200853 non-null  object\n",
            "dtypes: object(3)\n",
            "memory usage: 4.6+ MB\n"
          ]
        }
      ]
    },
    {
      "cell_type": "code",
      "source": [
        "dataset.describe()"
      ],
      "metadata": {
        "id": "jy-vSQvl57Sd",
        "colab": {
          "base_uri": "https://localhost:8080/",
          "height": 175
        },
        "outputId": "42d91426-8797-4720-f33a-bfc02956e10d"
      },
      "execution_count": null,
      "outputs": [
        {
          "output_type": "execute_result",
          "data": {
            "text/plain": [
              "        category        headline short_description\n",
              "count   200853    200853          200853          \n",
              "unique  41        199344          178353          \n",
              "top     POLITICS  Sunday Roundup                  \n",
              "freq    32739     90              19712           "
            ],
            "text/html": [
              "\n",
              "  <div id=\"df-055cc30a-2e9a-499d-a6e9-bb7f94b508a6\">\n",
              "    <div class=\"colab-df-container\">\n",
              "      <div>\n",
              "<style scoped>\n",
              "    .dataframe tbody tr th:only-of-type {\n",
              "        vertical-align: middle;\n",
              "    }\n",
              "\n",
              "    .dataframe tbody tr th {\n",
              "        vertical-align: top;\n",
              "    }\n",
              "\n",
              "    .dataframe thead th {\n",
              "        text-align: right;\n",
              "    }\n",
              "</style>\n",
              "<table border=\"1\" class=\"dataframe\">\n",
              "  <thead>\n",
              "    <tr style=\"text-align: right;\">\n",
              "      <th></th>\n",
              "      <th>category</th>\n",
              "      <th>headline</th>\n",
              "      <th>short_description</th>\n",
              "    </tr>\n",
              "  </thead>\n",
              "  <tbody>\n",
              "    <tr>\n",
              "      <th>count</th>\n",
              "      <td>200853</td>\n",
              "      <td>200853</td>\n",
              "      <td>200853</td>\n",
              "    </tr>\n",
              "    <tr>\n",
              "      <th>unique</th>\n",
              "      <td>41</td>\n",
              "      <td>199344</td>\n",
              "      <td>178353</td>\n",
              "    </tr>\n",
              "    <tr>\n",
              "      <th>top</th>\n",
              "      <td>POLITICS</td>\n",
              "      <td>Sunday Roundup</td>\n",
              "      <td></td>\n",
              "    </tr>\n",
              "    <tr>\n",
              "      <th>freq</th>\n",
              "      <td>32739</td>\n",
              "      <td>90</td>\n",
              "      <td>19712</td>\n",
              "    </tr>\n",
              "  </tbody>\n",
              "</table>\n",
              "</div>\n",
              "      <button class=\"colab-df-convert\" onclick=\"convertToInteractive('df-055cc30a-2e9a-499d-a6e9-bb7f94b508a6')\"\n",
              "              title=\"Convert this dataframe to an interactive table.\"\n",
              "              style=\"display:none;\">\n",
              "        \n",
              "  <svg xmlns=\"http://www.w3.org/2000/svg\" height=\"24px\"viewBox=\"0 0 24 24\"\n",
              "       width=\"24px\">\n",
              "    <path d=\"M0 0h24v24H0V0z\" fill=\"none\"/>\n",
              "    <path d=\"M18.56 5.44l.94 2.06.94-2.06 2.06-.94-2.06-.94-.94-2.06-.94 2.06-2.06.94zm-11 1L8.5 8.5l.94-2.06 2.06-.94-2.06-.94L8.5 2.5l-.94 2.06-2.06.94zm10 10l.94 2.06.94-2.06 2.06-.94-2.06-.94-.94-2.06-.94 2.06-2.06.94z\"/><path d=\"M17.41 7.96l-1.37-1.37c-.4-.4-.92-.59-1.43-.59-.52 0-1.04.2-1.43.59L10.3 9.45l-7.72 7.72c-.78.78-.78 2.05 0 2.83L4 21.41c.39.39.9.59 1.41.59.51 0 1.02-.2 1.41-.59l7.78-7.78 2.81-2.81c.8-.78.8-2.07 0-2.86zM5.41 20L4 18.59l7.72-7.72 1.47 1.35L5.41 20z\"/>\n",
              "  </svg>\n",
              "      </button>\n",
              "      \n",
              "  <style>\n",
              "    .colab-df-container {\n",
              "      display:flex;\n",
              "      flex-wrap:wrap;\n",
              "      gap: 12px;\n",
              "    }\n",
              "\n",
              "    .colab-df-convert {\n",
              "      background-color: #E8F0FE;\n",
              "      border: none;\n",
              "      border-radius: 50%;\n",
              "      cursor: pointer;\n",
              "      display: none;\n",
              "      fill: #1967D2;\n",
              "      height: 32px;\n",
              "      padding: 0 0 0 0;\n",
              "      width: 32px;\n",
              "    }\n",
              "\n",
              "    .colab-df-convert:hover {\n",
              "      background-color: #E2EBFA;\n",
              "      box-shadow: 0px 1px 2px rgba(60, 64, 67, 0.3), 0px 1px 3px 1px rgba(60, 64, 67, 0.15);\n",
              "      fill: #174EA6;\n",
              "    }\n",
              "\n",
              "    [theme=dark] .colab-df-convert {\n",
              "      background-color: #3B4455;\n",
              "      fill: #D2E3FC;\n",
              "    }\n",
              "\n",
              "    [theme=dark] .colab-df-convert:hover {\n",
              "      background-color: #434B5C;\n",
              "      box-shadow: 0px 1px 3px 1px rgba(0, 0, 0, 0.15);\n",
              "      filter: drop-shadow(0px 1px 2px rgba(0, 0, 0, 0.3));\n",
              "      fill: #FFFFFF;\n",
              "    }\n",
              "  </style>\n",
              "\n",
              "      <script>\n",
              "        const buttonEl =\n",
              "          document.querySelector('#df-055cc30a-2e9a-499d-a6e9-bb7f94b508a6 button.colab-df-convert');\n",
              "        buttonEl.style.display =\n",
              "          google.colab.kernel.accessAllowed ? 'block' : 'none';\n",
              "\n",
              "        async function convertToInteractive(key) {\n",
              "          const element = document.querySelector('#df-055cc30a-2e9a-499d-a6e9-bb7f94b508a6');\n",
              "          const dataTable =\n",
              "            await google.colab.kernel.invokeFunction('convertToInteractive',\n",
              "                                                     [key], {});\n",
              "          if (!dataTable) return;\n",
              "\n",
              "          const docLinkHtml = 'Like what you see? Visit the ' +\n",
              "            '<a target=\"_blank\" href=https://colab.research.google.com/notebooks/data_table.ipynb>data table notebook</a>'\n",
              "            + ' to learn more about interactive tables.';\n",
              "          element.innerHTML = '';\n",
              "          dataTable['output_type'] = 'display_data';\n",
              "          await google.colab.output.renderOutput(dataTable, element);\n",
              "          const docLink = document.createElement('div');\n",
              "          docLink.innerHTML = docLinkHtml;\n",
              "          element.appendChild(docLink);\n",
              "        }\n",
              "      </script>\n",
              "    </div>\n",
              "  </div>\n",
              "  "
            ]
          },
          "metadata": {},
          "execution_count": 34
        }
      ]
    },
    {
      "cell_type": "code",
      "source": [
        "dataset.duplicated().sum()"
      ],
      "metadata": {
        "colab": {
          "base_uri": "https://localhost:8080/"
        },
        "id": "etzkxPdt0EPS",
        "outputId": "e77c664a-e5ea-4601-b0f0-19a0a6f7d4df"
      },
      "execution_count": null,
      "outputs": [
        {
          "output_type": "execute_result",
          "data": {
            "text/plain": [
              "470"
            ]
          },
          "metadata": {},
          "execution_count": 35
        }
      ]
    },
    {
      "cell_type": "code",
      "source": [
        "print(dataset['category'].nunique())\n",
        "dataset['category'].value_counts()"
      ],
      "metadata": {
        "colab": {
          "base_uri": "https://localhost:8080/"
        },
        "id": "uVE88ziMin4g",
        "outputId": "3ff093f3-37ca-40f6-e9dd-4c33fae5d36a"
      },
      "execution_count": null,
      "outputs": [
        {
          "output_type": "stream",
          "name": "stdout",
          "text": [
            "41\n"
          ]
        },
        {
          "output_type": "execute_result",
          "data": {
            "text/plain": [
              "POLITICS          32739\n",
              "WELLNESS          17827\n",
              "ENTERTAINMENT     16058\n",
              "TRAVEL            9887 \n",
              "STYLE & BEAUTY    9649 \n",
              "PARENTING         8677 \n",
              "HEALTHY LIVING    6694 \n",
              "QUEER VOICES      6314 \n",
              "FOOD & DRINK      6226 \n",
              "BUSINESS          5937 \n",
              "COMEDY            5175 \n",
              "SPORTS            4884 \n",
              "BLACK VOICES      4528 \n",
              "HOME & LIVING     4195 \n",
              "PARENTS           3955 \n",
              "THE WORLDPOST     3664 \n",
              "WEDDINGS          3651 \n",
              "WOMEN             3490 \n",
              "IMPACT            3459 \n",
              "DIVORCE           3426 \n",
              "CRIME             3405 \n",
              "MEDIA             2815 \n",
              "WEIRD NEWS        2670 \n",
              "GREEN             2622 \n",
              "WORLDPOST         2579 \n",
              "RELIGION          2556 \n",
              "STYLE             2254 \n",
              "SCIENCE           2178 \n",
              "WORLD NEWS        2177 \n",
              "TASTE             2096 \n",
              "TECH              2082 \n",
              "MONEY             1707 \n",
              "ARTS              1509 \n",
              "FIFTY             1401 \n",
              "GOOD NEWS         1398 \n",
              "ARTS & CULTURE    1339 \n",
              "ENVIRONMENT       1323 \n",
              "COLLEGE           1144 \n",
              "LATINO VOICES     1129 \n",
              "CULTURE & ARTS    1030 \n",
              "EDUCATION         1004 \n",
              "Name: category, dtype: int64"
            ]
          },
          "metadata": {},
          "execution_count": 36
        }
      ]
    },
    {
      "cell_type": "code",
      "source": [
        ""
      ],
      "metadata": {
        "id": "I6s0CJLfinm_"
      },
      "execution_count": null,
      "outputs": []
    },
    {
      "cell_type": "code",
      "source": [
        "categories = dataset['category'].value_counts().index\n",
        "\n",
        "def groupper(grouplist,name):\n",
        "    for categ in categories:\n",
        "        if categ in grouplist:\n",
        "            dataset.loc[dataset['category'] == categ, 'category'] = name"
      ],
      "metadata": {
        "id": "iBS4P3FLizGr"
      },
      "execution_count": null,
      "outputs": []
    },
    {
      "cell_type": "code",
      "source": [
        "groupper( grouplist= ['ENVIRONMENT' ,'GREEN'] , name =  'ENVIRONMENT')\n",
        "\n",
        "groupper( grouplist= ['TECH', 'SCIENCE'] , name =  'SCIENCE AND TECH')\n",
        "\n",
        "groupper( grouplist= ['FIFTY' , 'IMPACT' ,'GOOD NEWS','CRIME'] , name =  'GENERAL')\n",
        "\n",
        "groupper( grouplist= ['WEDDINGS', 'DIVORCE',  'RELIGION','MEDIA'] , name =  'MISC')\n",
        "\n",
        "groupper( grouplist= ['WELLNESS', 'HEALTHY LIVING','HOME & LIVING','STYLE & BEAUTY' ,'STYLE'] , name =  'LIFESTYLE AND WELLNESS')\n",
        "\n",
        "groupper( grouplist= [ 'PARENTING', 'PARENTS' ,'EDUCATION' ,'COLLEGE'] , name =  'PARENTING AND EDUCATION')\n",
        "\n",
        "groupper( grouplist= ['SPORTS','ENTERTAINMENT' , 'COMEDY','WEIRD NEWS','ARTS'] , name =  'SPORTS AND ENTERTAINMENT')\n",
        "\n",
        "groupper( grouplist= ['TRAVEL', 'ARTS & CULTURE','CULTURE & ARTS','FOOD & DRINK', 'TASTE'] , name =  'TRAVEL-TOURISM & ART-CULTURE')\n",
        "\n",
        "groupper( grouplist= ['WOMEN','QUEER VOICES', 'LATINO VOICES', 'BLACK VOICES'] , name =  'EMPOWERED VOICES')\n",
        "\n",
        "groupper( grouplist= ['BUSINESS' ,  'MONEY'] , name =  'BUSINESS-MONEY')\n",
        "\n",
        "groupper( grouplist= ['THE WORLDPOST' , 'WORLDPOST' , 'WORLD NEWS'] , name =  'WORLDNEWS')\n",
        "\n"
      ],
      "metadata": {
        "id": "qKNUIdl5iy_o"
      },
      "execution_count": null,
      "outputs": []
    },
    {
      "cell_type": "code",
      "source": [
        "print(dataset['category'].nunique())\n",
        "dataset['category'].value_counts()"
      ],
      "metadata": {
        "colab": {
          "base_uri": "https://localhost:8080/"
        },
        "id": "LBdyb79siyzG",
        "outputId": "c191e44f-2175-41b8-e7de-b47685f4dde7"
      },
      "execution_count": null,
      "outputs": [
        {
          "output_type": "stream",
          "name": "stdout",
          "text": [
            "12\n"
          ]
        },
        {
          "output_type": "execute_result",
          "data": {
            "text/plain": [
              "LIFESTYLE AND WELLNESS          40619\n",
              "POLITICS                        32739\n",
              "SPORTS AND ENTERTAINMENT        30296\n",
              "TRAVEL-TOURISM & ART-CULTURE    20578\n",
              "EMPOWERED VOICES                15461\n",
              "PARENTING AND EDUCATION         14780\n",
              "MISC                            12448\n",
              "GENERAL                         9663 \n",
              "WORLDNEWS                       8420 \n",
              "BUSINESS-MONEY                  7644 \n",
              "SCIENCE AND TECH                4260 \n",
              "ENVIRONMENT                     3945 \n",
              "Name: category, dtype: int64"
            ]
          },
          "metadata": {},
          "execution_count": 39
        }
      ]
    },
    {
      "cell_type": "code",
      "source": [
        "dataset.duplicated().sum()"
      ],
      "metadata": {
        "id": "6Us0HBD1inU_",
        "colab": {
          "base_uri": "https://localhost:8080/"
        },
        "outputId": "c140066a-ba8d-4117-8cd5-a757de2e9de5"
      },
      "execution_count": null,
      "outputs": [
        {
          "output_type": "execute_result",
          "data": {
            "text/plain": [
              "473"
            ]
          },
          "metadata": {},
          "execution_count": 40
        }
      ]
    },
    {
      "cell_type": "code",
      "source": [
        "dataset.drop_duplicates(keep='last', inplace=True) "
      ],
      "metadata": {
        "id": "ryiDeQsmjQNQ"
      },
      "execution_count": null,
      "outputs": []
    },
    {
      "cell_type": "code",
      "source": [
        "print(len(dataset[dataset['headline'] == \"\"]))"
      ],
      "metadata": {
        "colab": {
          "base_uri": "https://localhost:8080/"
        },
        "id": "lYpkfehljg1l",
        "outputId": "6321d36b-0cba-4230-f49e-48f1025407b9"
      },
      "execution_count": null,
      "outputs": [
        {
          "output_type": "stream",
          "name": "stdout",
          "text": [
            "6\n"
          ]
        }
      ]
    },
    {
      "cell_type": "code",
      "source": [
        "dataset.loc[dataset['headline'] == \"\", 'headline'] = np.nan\n",
        "dataset.dropna(subset=['headline'], inplace=True)\n",
        "print(len(dataset[dataset['headline'] == \"\"]))"
      ],
      "metadata": {
        "colab": {
          "base_uri": "https://localhost:8080/"
        },
        "id": "x4vCGY2ujhKA",
        "outputId": "4b30aac7-c3b1-41d0-8a75-c451c6b8174d"
      },
      "execution_count": null,
      "outputs": [
        {
          "output_type": "stream",
          "name": "stdout",
          "text": [
            "0\n"
          ]
        }
      ]
    },
    {
      "cell_type": "code",
      "source": [
        "print(len(dataset[dataset['short_description'] == \"\"]))\n"
      ],
      "metadata": {
        "colab": {
          "base_uri": "https://localhost:8080/"
        },
        "id": "LeH257mojhZA",
        "outputId": "7bc6a264-af0c-45ae-9718-c05c5789c780"
      },
      "execution_count": null,
      "outputs": [
        {
          "output_type": "stream",
          "name": "stdout",
          "text": [
            "19614\n"
          ]
        }
      ]
    },
    {
      "cell_type": "code",
      "source": [
        "dataset.loc[dataset['short_description'] == \"\", 'short_description'] = np.nan\n",
        "dataset.dropna(subset=['short_description'], inplace=True)\n",
        "print(len(dataset[dataset['short_description'] == \"\"]))\n"
      ],
      "metadata": {
        "colab": {
          "base_uri": "https://localhost:8080/"
        },
        "id": "5foA-bKkjhhm",
        "outputId": "e982c11c-828e-4093-ca3f-e7d318693bc1"
      },
      "execution_count": null,
      "outputs": [
        {
          "output_type": "stream",
          "name": "stdout",
          "text": [
            "0\n"
          ]
        }
      ]
    },
    {
      "cell_type": "code",
      "source": [
        "from sklearn.utils import shuffle\n",
        "df = shuffle(dataset)\n",
        "df.reset_index(inplace=True, drop=True) "
      ],
      "metadata": {
        "id": "QpWQ8dEZjh3S"
      },
      "execution_count": null,
      "outputs": []
    },
    {
      "cell_type": "code",
      "source": [
        "dataset.head()\n"
      ],
      "metadata": {
        "colab": {
          "base_uri": "https://localhost:8080/",
          "height": 337
        },
        "id": "-2eC_8vxjh-Y",
        "outputId": "2114bdb2-9a76-4bfb-887f-4b9f4cbf80e4"
      },
      "execution_count": null,
      "outputs": [
        {
          "output_type": "execute_result",
          "data": {
            "text/plain": [
              "                   category  \\\n",
              "0  GENERAL                    \n",
              "1  SPORTS AND ENTERTAINMENT   \n",
              "2  SPORTS AND ENTERTAINMENT   \n",
              "3  SPORTS AND ENTERTAINMENT   \n",
              "4  SPORTS AND ENTERTAINMENT   \n",
              "\n",
              "                                                                      headline  \\\n",
              "0  There Were 2 Mass Shootings In Texas Last Week, But Only 1 On TV              \n",
              "1  Will Smith Joins Diplo And Nicky Jam For The 2018 World Cup's Official Song   \n",
              "2  Hugh Grant Marries For The First Time At Age 57                               \n",
              "3  Jim Carrey Blasts 'Castrato' Adam Schiff And Democrats In New Artwork         \n",
              "4  Julianna Margulies Uses Donald Trump Poop Bags To Pick Up After Her Dog       \n",
              "\n",
              "                                                                         short_description  \n",
              "0  She left her husband. He killed their children. Just another day in America.             \n",
              "1  Of course it has a song.                                                                 \n",
              "2  The actor and his longtime girlfriend Anna Eberstein tied the knot in a civil ceremony.  \n",
              "3  The actor gives Dems an ass-kicking for not fighting hard enough against Donald Trump.   \n",
              "4  The \"Dietland\" actress said using the bags is a \"really cathartic, therapeutic moment.\"  "
            ],
            "text/html": [
              "\n",
              "  <div id=\"df-2b39e746-3152-4d24-b549-577309a7921f\">\n",
              "    <div class=\"colab-df-container\">\n",
              "      <div>\n",
              "<style scoped>\n",
              "    .dataframe tbody tr th:only-of-type {\n",
              "        vertical-align: middle;\n",
              "    }\n",
              "\n",
              "    .dataframe tbody tr th {\n",
              "        vertical-align: top;\n",
              "    }\n",
              "\n",
              "    .dataframe thead th {\n",
              "        text-align: right;\n",
              "    }\n",
              "</style>\n",
              "<table border=\"1\" class=\"dataframe\">\n",
              "  <thead>\n",
              "    <tr style=\"text-align: right;\">\n",
              "      <th></th>\n",
              "      <th>category</th>\n",
              "      <th>headline</th>\n",
              "      <th>short_description</th>\n",
              "    </tr>\n",
              "  </thead>\n",
              "  <tbody>\n",
              "    <tr>\n",
              "      <th>0</th>\n",
              "      <td>GENERAL</td>\n",
              "      <td>There Were 2 Mass Shootings In Texas Last Week, But Only 1 On TV</td>\n",
              "      <td>She left her husband. He killed their children. Just another day in America.</td>\n",
              "    </tr>\n",
              "    <tr>\n",
              "      <th>1</th>\n",
              "      <td>SPORTS AND ENTERTAINMENT</td>\n",
              "      <td>Will Smith Joins Diplo And Nicky Jam For The 2018 World Cup's Official Song</td>\n",
              "      <td>Of course it has a song.</td>\n",
              "    </tr>\n",
              "    <tr>\n",
              "      <th>2</th>\n",
              "      <td>SPORTS AND ENTERTAINMENT</td>\n",
              "      <td>Hugh Grant Marries For The First Time At Age 57</td>\n",
              "      <td>The actor and his longtime girlfriend Anna Eberstein tied the knot in a civil ceremony.</td>\n",
              "    </tr>\n",
              "    <tr>\n",
              "      <th>3</th>\n",
              "      <td>SPORTS AND ENTERTAINMENT</td>\n",
              "      <td>Jim Carrey Blasts 'Castrato' Adam Schiff And Democrats In New Artwork</td>\n",
              "      <td>The actor gives Dems an ass-kicking for not fighting hard enough against Donald Trump.</td>\n",
              "    </tr>\n",
              "    <tr>\n",
              "      <th>4</th>\n",
              "      <td>SPORTS AND ENTERTAINMENT</td>\n",
              "      <td>Julianna Margulies Uses Donald Trump Poop Bags To Pick Up After Her Dog</td>\n",
              "      <td>The \"Dietland\" actress said using the bags is a \"really cathartic, therapeutic moment.\"</td>\n",
              "    </tr>\n",
              "  </tbody>\n",
              "</table>\n",
              "</div>\n",
              "      <button class=\"colab-df-convert\" onclick=\"convertToInteractive('df-2b39e746-3152-4d24-b549-577309a7921f')\"\n",
              "              title=\"Convert this dataframe to an interactive table.\"\n",
              "              style=\"display:none;\">\n",
              "        \n",
              "  <svg xmlns=\"http://www.w3.org/2000/svg\" height=\"24px\"viewBox=\"0 0 24 24\"\n",
              "       width=\"24px\">\n",
              "    <path d=\"M0 0h24v24H0V0z\" fill=\"none\"/>\n",
              "    <path d=\"M18.56 5.44l.94 2.06.94-2.06 2.06-.94-2.06-.94-.94-2.06-.94 2.06-2.06.94zm-11 1L8.5 8.5l.94-2.06 2.06-.94-2.06-.94L8.5 2.5l-.94 2.06-2.06.94zm10 10l.94 2.06.94-2.06 2.06-.94-2.06-.94-.94-2.06-.94 2.06-2.06.94z\"/><path d=\"M17.41 7.96l-1.37-1.37c-.4-.4-.92-.59-1.43-.59-.52 0-1.04.2-1.43.59L10.3 9.45l-7.72 7.72c-.78.78-.78 2.05 0 2.83L4 21.41c.39.39.9.59 1.41.59.51 0 1.02-.2 1.41-.59l7.78-7.78 2.81-2.81c.8-.78.8-2.07 0-2.86zM5.41 20L4 18.59l7.72-7.72 1.47 1.35L5.41 20z\"/>\n",
              "  </svg>\n",
              "      </button>\n",
              "      \n",
              "  <style>\n",
              "    .colab-df-container {\n",
              "      display:flex;\n",
              "      flex-wrap:wrap;\n",
              "      gap: 12px;\n",
              "    }\n",
              "\n",
              "    .colab-df-convert {\n",
              "      background-color: #E8F0FE;\n",
              "      border: none;\n",
              "      border-radius: 50%;\n",
              "      cursor: pointer;\n",
              "      display: none;\n",
              "      fill: #1967D2;\n",
              "      height: 32px;\n",
              "      padding: 0 0 0 0;\n",
              "      width: 32px;\n",
              "    }\n",
              "\n",
              "    .colab-df-convert:hover {\n",
              "      background-color: #E2EBFA;\n",
              "      box-shadow: 0px 1px 2px rgba(60, 64, 67, 0.3), 0px 1px 3px 1px rgba(60, 64, 67, 0.15);\n",
              "      fill: #174EA6;\n",
              "    }\n",
              "\n",
              "    [theme=dark] .colab-df-convert {\n",
              "      background-color: #3B4455;\n",
              "      fill: #D2E3FC;\n",
              "    }\n",
              "\n",
              "    [theme=dark] .colab-df-convert:hover {\n",
              "      background-color: #434B5C;\n",
              "      box-shadow: 0px 1px 3px 1px rgba(0, 0, 0, 0.15);\n",
              "      filter: drop-shadow(0px 1px 2px rgba(0, 0, 0, 0.3));\n",
              "      fill: #FFFFFF;\n",
              "    }\n",
              "  </style>\n",
              "\n",
              "      <script>\n",
              "        const buttonEl =\n",
              "          document.querySelector('#df-2b39e746-3152-4d24-b549-577309a7921f button.colab-df-convert');\n",
              "        buttonEl.style.display =\n",
              "          google.colab.kernel.accessAllowed ? 'block' : 'none';\n",
              "\n",
              "        async function convertToInteractive(key) {\n",
              "          const element = document.querySelector('#df-2b39e746-3152-4d24-b549-577309a7921f');\n",
              "          const dataTable =\n",
              "            await google.colab.kernel.invokeFunction('convertToInteractive',\n",
              "                                                     [key], {});\n",
              "          if (!dataTable) return;\n",
              "\n",
              "          const docLinkHtml = 'Like what you see? Visit the ' +\n",
              "            '<a target=\"_blank\" href=https://colab.research.google.com/notebooks/data_table.ipynb>data table notebook</a>'\n",
              "            + ' to learn more about interactive tables.';\n",
              "          element.innerHTML = '';\n",
              "          dataTable['output_type'] = 'display_data';\n",
              "          await google.colab.output.renderOutput(dataTable, element);\n",
              "          const docLink = document.createElement('div');\n",
              "          docLink.innerHTML = docLinkHtml;\n",
              "          element.appendChild(docLink);\n",
              "        }\n",
              "      </script>\n",
              "    </div>\n",
              "  </div>\n",
              "  "
            ]
          },
          "metadata": {},
          "execution_count": 51
        }
      ]
    },
    {
      "cell_type": "code",
      "source": [
        "dataset['text'] = dataset['headline'].astype(str)+\" \"+dataset['short_description']\n",
        "# \n",
        "dataset.astype(str)\n",
        "dataset.head()"
      ],
      "metadata": {
        "colab": {
          "base_uri": "https://localhost:8080/",
          "height": 458
        },
        "id": "jv3LgClDjiF8",
        "outputId": "4d5d110f-ce0c-4129-eb38-326a5c9a008d"
      },
      "execution_count": null,
      "outputs": [
        {
          "output_type": "execute_result",
          "data": {
            "text/plain": [
              "                   category  \\\n",
              "0  GENERAL                    \n",
              "1  SPORTS AND ENTERTAINMENT   \n",
              "2  SPORTS AND ENTERTAINMENT   \n",
              "3  SPORTS AND ENTERTAINMENT   \n",
              "4  SPORTS AND ENTERTAINMENT   \n",
              "\n",
              "                                                                      headline  \\\n",
              "0  There Were 2 Mass Shootings In Texas Last Week, But Only 1 On TV              \n",
              "1  Will Smith Joins Diplo And Nicky Jam For The 2018 World Cup's Official Song   \n",
              "2  Hugh Grant Marries For The First Time At Age 57                               \n",
              "3  Jim Carrey Blasts 'Castrato' Adam Schiff And Democrats In New Artwork         \n",
              "4  Julianna Margulies Uses Donald Trump Poop Bags To Pick Up After Her Dog       \n",
              "\n",
              "                                                                         short_description  \\\n",
              "0  She left her husband. He killed their children. Just another day in America.              \n",
              "1  Of course it has a song.                                                                  \n",
              "2  The actor and his longtime girlfriend Anna Eberstein tied the knot in a civil ceremony.   \n",
              "3  The actor gives Dems an ass-kicking for not fighting hard enough against Donald Trump.    \n",
              "4  The \"Dietland\" actress said using the bags is a \"really cathartic, therapeutic moment.\"   \n",
              "\n",
              "                                                                                                                                                              text  \n",
              "0  There Were 2 Mass Shootings In Texas Last Week, But Only 1 On TV She left her husband. He killed their children. Just another day in America.                    \n",
              "1  Will Smith Joins Diplo And Nicky Jam For The 2018 World Cup's Official Song Of course it has a song.                                                             \n",
              "2  Hugh Grant Marries For The First Time At Age 57 The actor and his longtime girlfriend Anna Eberstein tied the knot in a civil ceremony.                          \n",
              "3  Jim Carrey Blasts 'Castrato' Adam Schiff And Democrats In New Artwork The actor gives Dems an ass-kicking for not fighting hard enough against Donald Trump.     \n",
              "4  Julianna Margulies Uses Donald Trump Poop Bags To Pick Up After Her Dog The \"Dietland\" actress said using the bags is a \"really cathartic, therapeutic moment.\"  "
            ],
            "text/html": [
              "\n",
              "  <div id=\"df-20bc512e-2910-451c-83c4-eb5464a8995d\">\n",
              "    <div class=\"colab-df-container\">\n",
              "      <div>\n",
              "<style scoped>\n",
              "    .dataframe tbody tr th:only-of-type {\n",
              "        vertical-align: middle;\n",
              "    }\n",
              "\n",
              "    .dataframe tbody tr th {\n",
              "        vertical-align: top;\n",
              "    }\n",
              "\n",
              "    .dataframe thead th {\n",
              "        text-align: right;\n",
              "    }\n",
              "</style>\n",
              "<table border=\"1\" class=\"dataframe\">\n",
              "  <thead>\n",
              "    <tr style=\"text-align: right;\">\n",
              "      <th></th>\n",
              "      <th>category</th>\n",
              "      <th>headline</th>\n",
              "      <th>short_description</th>\n",
              "      <th>text</th>\n",
              "    </tr>\n",
              "  </thead>\n",
              "  <tbody>\n",
              "    <tr>\n",
              "      <th>0</th>\n",
              "      <td>GENERAL</td>\n",
              "      <td>There Were 2 Mass Shootings In Texas Last Week, But Only 1 On TV</td>\n",
              "      <td>She left her husband. He killed their children. Just another day in America.</td>\n",
              "      <td>There Were 2 Mass Shootings In Texas Last Week, But Only 1 On TV She left her husband. He killed their children. Just another day in America.</td>\n",
              "    </tr>\n",
              "    <tr>\n",
              "      <th>1</th>\n",
              "      <td>SPORTS AND ENTERTAINMENT</td>\n",
              "      <td>Will Smith Joins Diplo And Nicky Jam For The 2018 World Cup's Official Song</td>\n",
              "      <td>Of course it has a song.</td>\n",
              "      <td>Will Smith Joins Diplo And Nicky Jam For The 2018 World Cup's Official Song Of course it has a song.</td>\n",
              "    </tr>\n",
              "    <tr>\n",
              "      <th>2</th>\n",
              "      <td>SPORTS AND ENTERTAINMENT</td>\n",
              "      <td>Hugh Grant Marries For The First Time At Age 57</td>\n",
              "      <td>The actor and his longtime girlfriend Anna Eberstein tied the knot in a civil ceremony.</td>\n",
              "      <td>Hugh Grant Marries For The First Time At Age 57 The actor and his longtime girlfriend Anna Eberstein tied the knot in a civil ceremony.</td>\n",
              "    </tr>\n",
              "    <tr>\n",
              "      <th>3</th>\n",
              "      <td>SPORTS AND ENTERTAINMENT</td>\n",
              "      <td>Jim Carrey Blasts 'Castrato' Adam Schiff And Democrats In New Artwork</td>\n",
              "      <td>The actor gives Dems an ass-kicking for not fighting hard enough against Donald Trump.</td>\n",
              "      <td>Jim Carrey Blasts 'Castrato' Adam Schiff And Democrats In New Artwork The actor gives Dems an ass-kicking for not fighting hard enough against Donald Trump.</td>\n",
              "    </tr>\n",
              "    <tr>\n",
              "      <th>4</th>\n",
              "      <td>SPORTS AND ENTERTAINMENT</td>\n",
              "      <td>Julianna Margulies Uses Donald Trump Poop Bags To Pick Up After Her Dog</td>\n",
              "      <td>The \"Dietland\" actress said using the bags is a \"really cathartic, therapeutic moment.\"</td>\n",
              "      <td>Julianna Margulies Uses Donald Trump Poop Bags To Pick Up After Her Dog The \"Dietland\" actress said using the bags is a \"really cathartic, therapeutic moment.\"</td>\n",
              "    </tr>\n",
              "  </tbody>\n",
              "</table>\n",
              "</div>\n",
              "      <button class=\"colab-df-convert\" onclick=\"convertToInteractive('df-20bc512e-2910-451c-83c4-eb5464a8995d')\"\n",
              "              title=\"Convert this dataframe to an interactive table.\"\n",
              "              style=\"display:none;\">\n",
              "        \n",
              "  <svg xmlns=\"http://www.w3.org/2000/svg\" height=\"24px\"viewBox=\"0 0 24 24\"\n",
              "       width=\"24px\">\n",
              "    <path d=\"M0 0h24v24H0V0z\" fill=\"none\"/>\n",
              "    <path d=\"M18.56 5.44l.94 2.06.94-2.06 2.06-.94-2.06-.94-.94-2.06-.94 2.06-2.06.94zm-11 1L8.5 8.5l.94-2.06 2.06-.94-2.06-.94L8.5 2.5l-.94 2.06-2.06.94zm10 10l.94 2.06.94-2.06 2.06-.94-2.06-.94-.94-2.06-.94 2.06-2.06.94z\"/><path d=\"M17.41 7.96l-1.37-1.37c-.4-.4-.92-.59-1.43-.59-.52 0-1.04.2-1.43.59L10.3 9.45l-7.72 7.72c-.78.78-.78 2.05 0 2.83L4 21.41c.39.39.9.59 1.41.59.51 0 1.02-.2 1.41-.59l7.78-7.78 2.81-2.81c.8-.78.8-2.07 0-2.86zM5.41 20L4 18.59l7.72-7.72 1.47 1.35L5.41 20z\"/>\n",
              "  </svg>\n",
              "      </button>\n",
              "      \n",
              "  <style>\n",
              "    .colab-df-container {\n",
              "      display:flex;\n",
              "      flex-wrap:wrap;\n",
              "      gap: 12px;\n",
              "    }\n",
              "\n",
              "    .colab-df-convert {\n",
              "      background-color: #E8F0FE;\n",
              "      border: none;\n",
              "      border-radius: 50%;\n",
              "      cursor: pointer;\n",
              "      display: none;\n",
              "      fill: #1967D2;\n",
              "      height: 32px;\n",
              "      padding: 0 0 0 0;\n",
              "      width: 32px;\n",
              "    }\n",
              "\n",
              "    .colab-df-convert:hover {\n",
              "      background-color: #E2EBFA;\n",
              "      box-shadow: 0px 1px 2px rgba(60, 64, 67, 0.3), 0px 1px 3px 1px rgba(60, 64, 67, 0.15);\n",
              "      fill: #174EA6;\n",
              "    }\n",
              "\n",
              "    [theme=dark] .colab-df-convert {\n",
              "      background-color: #3B4455;\n",
              "      fill: #D2E3FC;\n",
              "    }\n",
              "\n",
              "    [theme=dark] .colab-df-convert:hover {\n",
              "      background-color: #434B5C;\n",
              "      box-shadow: 0px 1px 3px 1px rgba(0, 0, 0, 0.15);\n",
              "      filter: drop-shadow(0px 1px 2px rgba(0, 0, 0, 0.3));\n",
              "      fill: #FFFFFF;\n",
              "    }\n",
              "  </style>\n",
              "\n",
              "      <script>\n",
              "        const buttonEl =\n",
              "          document.querySelector('#df-20bc512e-2910-451c-83c4-eb5464a8995d button.colab-df-convert');\n",
              "        buttonEl.style.display =\n",
              "          google.colab.kernel.accessAllowed ? 'block' : 'none';\n",
              "\n",
              "        async function convertToInteractive(key) {\n",
              "          const element = document.querySelector('#df-20bc512e-2910-451c-83c4-eb5464a8995d');\n",
              "          const dataTable =\n",
              "            await google.colab.kernel.invokeFunction('convertToInteractive',\n",
              "                                                     [key], {});\n",
              "          if (!dataTable) return;\n",
              "\n",
              "          const docLinkHtml = 'Like what you see? Visit the ' +\n",
              "            '<a target=\"_blank\" href=https://colab.research.google.com/notebooks/data_table.ipynb>data table notebook</a>'\n",
              "            + ' to learn more about interactive tables.';\n",
              "          element.innerHTML = '';\n",
              "          dataTable['output_type'] = 'display_data';\n",
              "          await google.colab.output.renderOutput(dataTable, element);\n",
              "          const docLink = document.createElement('div');\n",
              "          docLink.innerHTML = docLinkHtml;\n",
              "          element.appendChild(docLink);\n",
              "        }\n",
              "      </script>\n",
              "    </div>\n",
              "  </div>\n",
              "  "
            ]
          },
          "metadata": {},
          "execution_count": 52
        }
      ]
    },
    {
      "cell_type": "code",
      "source": [
        "dataset.drop(columns =['headline','short_description'],axis = 1, inplace=True)"
      ],
      "metadata": {
        "id": "ZaobOqYrjix7"
      },
      "execution_count": null,
      "outputs": []
    },
    {
      "cell_type": "code",
      "source": [
        "dataset.head()"
      ],
      "metadata": {
        "colab": {
          "base_uri": "https://localhost:8080/",
          "height": 337
        },
        "id": "2hf9mEBu2Bnh",
        "outputId": "eb02c43b-2c61-49b0-e48f-6cf0e687624b"
      },
      "execution_count": null,
      "outputs": [
        {
          "output_type": "execute_result",
          "data": {
            "text/plain": [
              "                   category  \\\n",
              "0  GENERAL                    \n",
              "1  SPORTS AND ENTERTAINMENT   \n",
              "2  SPORTS AND ENTERTAINMENT   \n",
              "3  SPORTS AND ENTERTAINMENT   \n",
              "4  SPORTS AND ENTERTAINMENT   \n",
              "\n",
              "                                                                                                                                                              text  \n",
              "0  There Were 2 Mass Shootings In Texas Last Week, But Only 1 On TV She left her husband. He killed their children. Just another day in America.                    \n",
              "1  Will Smith Joins Diplo And Nicky Jam For The 2018 World Cup's Official Song Of course it has a song.                                                             \n",
              "2  Hugh Grant Marries For The First Time At Age 57 The actor and his longtime girlfriend Anna Eberstein tied the knot in a civil ceremony.                          \n",
              "3  Jim Carrey Blasts 'Castrato' Adam Schiff And Democrats In New Artwork The actor gives Dems an ass-kicking for not fighting hard enough against Donald Trump.     \n",
              "4  Julianna Margulies Uses Donald Trump Poop Bags To Pick Up After Her Dog The \"Dietland\" actress said using the bags is a \"really cathartic, therapeutic moment.\"  "
            ],
            "text/html": [
              "\n",
              "  <div id=\"df-912aaa0b-3bfd-4438-b2d3-d95f8ecf8841\">\n",
              "    <div class=\"colab-df-container\">\n",
              "      <div>\n",
              "<style scoped>\n",
              "    .dataframe tbody tr th:only-of-type {\n",
              "        vertical-align: middle;\n",
              "    }\n",
              "\n",
              "    .dataframe tbody tr th {\n",
              "        vertical-align: top;\n",
              "    }\n",
              "\n",
              "    .dataframe thead th {\n",
              "        text-align: right;\n",
              "    }\n",
              "</style>\n",
              "<table border=\"1\" class=\"dataframe\">\n",
              "  <thead>\n",
              "    <tr style=\"text-align: right;\">\n",
              "      <th></th>\n",
              "      <th>category</th>\n",
              "      <th>text</th>\n",
              "    </tr>\n",
              "  </thead>\n",
              "  <tbody>\n",
              "    <tr>\n",
              "      <th>0</th>\n",
              "      <td>GENERAL</td>\n",
              "      <td>There Were 2 Mass Shootings In Texas Last Week, But Only 1 On TV She left her husband. He killed their children. Just another day in America.</td>\n",
              "    </tr>\n",
              "    <tr>\n",
              "      <th>1</th>\n",
              "      <td>SPORTS AND ENTERTAINMENT</td>\n",
              "      <td>Will Smith Joins Diplo And Nicky Jam For The 2018 World Cup's Official Song Of course it has a song.</td>\n",
              "    </tr>\n",
              "    <tr>\n",
              "      <th>2</th>\n",
              "      <td>SPORTS AND ENTERTAINMENT</td>\n",
              "      <td>Hugh Grant Marries For The First Time At Age 57 The actor and his longtime girlfriend Anna Eberstein tied the knot in a civil ceremony.</td>\n",
              "    </tr>\n",
              "    <tr>\n",
              "      <th>3</th>\n",
              "      <td>SPORTS AND ENTERTAINMENT</td>\n",
              "      <td>Jim Carrey Blasts 'Castrato' Adam Schiff And Democrats In New Artwork The actor gives Dems an ass-kicking for not fighting hard enough against Donald Trump.</td>\n",
              "    </tr>\n",
              "    <tr>\n",
              "      <th>4</th>\n",
              "      <td>SPORTS AND ENTERTAINMENT</td>\n",
              "      <td>Julianna Margulies Uses Donald Trump Poop Bags To Pick Up After Her Dog The \"Dietland\" actress said using the bags is a \"really cathartic, therapeutic moment.\"</td>\n",
              "    </tr>\n",
              "  </tbody>\n",
              "</table>\n",
              "</div>\n",
              "      <button class=\"colab-df-convert\" onclick=\"convertToInteractive('df-912aaa0b-3bfd-4438-b2d3-d95f8ecf8841')\"\n",
              "              title=\"Convert this dataframe to an interactive table.\"\n",
              "              style=\"display:none;\">\n",
              "        \n",
              "  <svg xmlns=\"http://www.w3.org/2000/svg\" height=\"24px\"viewBox=\"0 0 24 24\"\n",
              "       width=\"24px\">\n",
              "    <path d=\"M0 0h24v24H0V0z\" fill=\"none\"/>\n",
              "    <path d=\"M18.56 5.44l.94 2.06.94-2.06 2.06-.94-2.06-.94-.94-2.06-.94 2.06-2.06.94zm-11 1L8.5 8.5l.94-2.06 2.06-.94-2.06-.94L8.5 2.5l-.94 2.06-2.06.94zm10 10l.94 2.06.94-2.06 2.06-.94-2.06-.94-.94-2.06-.94 2.06-2.06.94z\"/><path d=\"M17.41 7.96l-1.37-1.37c-.4-.4-.92-.59-1.43-.59-.52 0-1.04.2-1.43.59L10.3 9.45l-7.72 7.72c-.78.78-.78 2.05 0 2.83L4 21.41c.39.39.9.59 1.41.59.51 0 1.02-.2 1.41-.59l7.78-7.78 2.81-2.81c.8-.78.8-2.07 0-2.86zM5.41 20L4 18.59l7.72-7.72 1.47 1.35L5.41 20z\"/>\n",
              "  </svg>\n",
              "      </button>\n",
              "      \n",
              "  <style>\n",
              "    .colab-df-container {\n",
              "      display:flex;\n",
              "      flex-wrap:wrap;\n",
              "      gap: 12px;\n",
              "    }\n",
              "\n",
              "    .colab-df-convert {\n",
              "      background-color: #E8F0FE;\n",
              "      border: none;\n",
              "      border-radius: 50%;\n",
              "      cursor: pointer;\n",
              "      display: none;\n",
              "      fill: #1967D2;\n",
              "      height: 32px;\n",
              "      padding: 0 0 0 0;\n",
              "      width: 32px;\n",
              "    }\n",
              "\n",
              "    .colab-df-convert:hover {\n",
              "      background-color: #E2EBFA;\n",
              "      box-shadow: 0px 1px 2px rgba(60, 64, 67, 0.3), 0px 1px 3px 1px rgba(60, 64, 67, 0.15);\n",
              "      fill: #174EA6;\n",
              "    }\n",
              "\n",
              "    [theme=dark] .colab-df-convert {\n",
              "      background-color: #3B4455;\n",
              "      fill: #D2E3FC;\n",
              "    }\n",
              "\n",
              "    [theme=dark] .colab-df-convert:hover {\n",
              "      background-color: #434B5C;\n",
              "      box-shadow: 0px 1px 3px 1px rgba(0, 0, 0, 0.15);\n",
              "      filter: drop-shadow(0px 1px 2px rgba(0, 0, 0, 0.3));\n",
              "      fill: #FFFFFF;\n",
              "    }\n",
              "  </style>\n",
              "\n",
              "      <script>\n",
              "        const buttonEl =\n",
              "          document.querySelector('#df-912aaa0b-3bfd-4438-b2d3-d95f8ecf8841 button.colab-df-convert');\n",
              "        buttonEl.style.display =\n",
              "          google.colab.kernel.accessAllowed ? 'block' : 'none';\n",
              "\n",
              "        async function convertToInteractive(key) {\n",
              "          const element = document.querySelector('#df-912aaa0b-3bfd-4438-b2d3-d95f8ecf8841');\n",
              "          const dataTable =\n",
              "            await google.colab.kernel.invokeFunction('convertToInteractive',\n",
              "                                                     [key], {});\n",
              "          if (!dataTable) return;\n",
              "\n",
              "          const docLinkHtml = 'Like what you see? Visit the ' +\n",
              "            '<a target=\"_blank\" href=https://colab.research.google.com/notebooks/data_table.ipynb>data table notebook</a>'\n",
              "            + ' to learn more about interactive tables.';\n",
              "          element.innerHTML = '';\n",
              "          dataTable['output_type'] = 'display_data';\n",
              "          await google.colab.output.renderOutput(dataTable, element);\n",
              "          const docLink = document.createElement('div');\n",
              "          docLink.innerHTML = docLinkHtml;\n",
              "          element.appendChild(docLink);\n",
              "        }\n",
              "      </script>\n",
              "    </div>\n",
              "  </div>\n",
              "  "
            ]
          },
          "metadata": {},
          "execution_count": 54
        }
      ]
    },
    {
      "cell_type": "code",
      "source": [
        "dataset.drop_duplicates(subset=['text'],keep='last',inplace=True)"
      ],
      "metadata": {
        "id": "DwnyFfhd2L23"
      },
      "execution_count": null,
      "outputs": []
    },
    {
      "cell_type": "code",
      "source": [
        "dataset.duplicated().sum()"
      ],
      "metadata": {
        "colab": {
          "base_uri": "https://localhost:8080/"
        },
        "id": "z1AhJ_BD2s08",
        "outputId": "ad01c6ba-aa93-4e71-b6de-9efacee7355b"
      },
      "execution_count": null,
      "outputs": [
        {
          "output_type": "execute_result",
          "data": {
            "text/plain": [
              "0"
            ]
          },
          "metadata": {},
          "execution_count": 56
        }
      ]
    },
    {
      "cell_type": "code",
      "source": [
        ""
      ],
      "metadata": {
        "id": "IIeuBrrW3XFy"
      },
      "execution_count": null,
      "outputs": []
    },
    {
      "cell_type": "code",
      "source": [
        ""
      ],
      "metadata": {
        "id": "FqF-hCKA3XWv"
      },
      "execution_count": null,
      "outputs": []
    },
    {
      "cell_type": "code",
      "source": [
        ""
      ],
      "metadata": {
        "id": "zUxVDu9_3XdB"
      },
      "execution_count": null,
      "outputs": []
    },
    {
      "cell_type": "markdown",
      "source": [
        "## Cleaning & Preprocessing"
      ],
      "metadata": {
        "id": "PgIWPomC562t"
      }
    },
    {
      "cell_type": "code",
      "source": [
        "dataset['text'] = dataset['text'].str.lower()\n",
        "dataset.head()"
      ],
      "metadata": {
        "colab": {
          "base_uri": "https://localhost:8080/",
          "height": 337
        },
        "id": "6UO4O5j93ZmF",
        "outputId": "490641cc-ac9d-4831-f414-a2a8cda9a5b2"
      },
      "execution_count": null,
      "outputs": [
        {
          "output_type": "execute_result",
          "data": {
            "text/plain": [
              "                   category  \\\n",
              "0  GENERAL                    \n",
              "1  SPORTS AND ENTERTAINMENT   \n",
              "2  SPORTS AND ENTERTAINMENT   \n",
              "3  SPORTS AND ENTERTAINMENT   \n",
              "4  SPORTS AND ENTERTAINMENT   \n",
              "\n",
              "                                                                                                                                                              text  \n",
              "0  there were 2 mass shootings in texas last week, but only 1 on tv she left her husband. he killed their children. just another day in america.                    \n",
              "1  will smith joins diplo and nicky jam for the 2018 world cup's official song of course it has a song.                                                             \n",
              "2  hugh grant marries for the first time at age 57 the actor and his longtime girlfriend anna eberstein tied the knot in a civil ceremony.                          \n",
              "3  jim carrey blasts 'castrato' adam schiff and democrats in new artwork the actor gives dems an ass-kicking for not fighting hard enough against donald trump.     \n",
              "4  julianna margulies uses donald trump poop bags to pick up after her dog the \"dietland\" actress said using the bags is a \"really cathartic, therapeutic moment.\"  "
            ],
            "text/html": [
              "\n",
              "  <div id=\"df-634d2ce7-a61a-4081-a934-ae57d1d1a332\">\n",
              "    <div class=\"colab-df-container\">\n",
              "      <div>\n",
              "<style scoped>\n",
              "    .dataframe tbody tr th:only-of-type {\n",
              "        vertical-align: middle;\n",
              "    }\n",
              "\n",
              "    .dataframe tbody tr th {\n",
              "        vertical-align: top;\n",
              "    }\n",
              "\n",
              "    .dataframe thead th {\n",
              "        text-align: right;\n",
              "    }\n",
              "</style>\n",
              "<table border=\"1\" class=\"dataframe\">\n",
              "  <thead>\n",
              "    <tr style=\"text-align: right;\">\n",
              "      <th></th>\n",
              "      <th>category</th>\n",
              "      <th>text</th>\n",
              "    </tr>\n",
              "  </thead>\n",
              "  <tbody>\n",
              "    <tr>\n",
              "      <th>0</th>\n",
              "      <td>GENERAL</td>\n",
              "      <td>there were 2 mass shootings in texas last week, but only 1 on tv she left her husband. he killed their children. just another day in america.</td>\n",
              "    </tr>\n",
              "    <tr>\n",
              "      <th>1</th>\n",
              "      <td>SPORTS AND ENTERTAINMENT</td>\n",
              "      <td>will smith joins diplo and nicky jam for the 2018 world cup's official song of course it has a song.</td>\n",
              "    </tr>\n",
              "    <tr>\n",
              "      <th>2</th>\n",
              "      <td>SPORTS AND ENTERTAINMENT</td>\n",
              "      <td>hugh grant marries for the first time at age 57 the actor and his longtime girlfriend anna eberstein tied the knot in a civil ceremony.</td>\n",
              "    </tr>\n",
              "    <tr>\n",
              "      <th>3</th>\n",
              "      <td>SPORTS AND ENTERTAINMENT</td>\n",
              "      <td>jim carrey blasts 'castrato' adam schiff and democrats in new artwork the actor gives dems an ass-kicking for not fighting hard enough against donald trump.</td>\n",
              "    </tr>\n",
              "    <tr>\n",
              "      <th>4</th>\n",
              "      <td>SPORTS AND ENTERTAINMENT</td>\n",
              "      <td>julianna margulies uses donald trump poop bags to pick up after her dog the \"dietland\" actress said using the bags is a \"really cathartic, therapeutic moment.\"</td>\n",
              "    </tr>\n",
              "  </tbody>\n",
              "</table>\n",
              "</div>\n",
              "      <button class=\"colab-df-convert\" onclick=\"convertToInteractive('df-634d2ce7-a61a-4081-a934-ae57d1d1a332')\"\n",
              "              title=\"Convert this dataframe to an interactive table.\"\n",
              "              style=\"display:none;\">\n",
              "        \n",
              "  <svg xmlns=\"http://www.w3.org/2000/svg\" height=\"24px\"viewBox=\"0 0 24 24\"\n",
              "       width=\"24px\">\n",
              "    <path d=\"M0 0h24v24H0V0z\" fill=\"none\"/>\n",
              "    <path d=\"M18.56 5.44l.94 2.06.94-2.06 2.06-.94-2.06-.94-.94-2.06-.94 2.06-2.06.94zm-11 1L8.5 8.5l.94-2.06 2.06-.94-2.06-.94L8.5 2.5l-.94 2.06-2.06.94zm10 10l.94 2.06.94-2.06 2.06-.94-2.06-.94-.94-2.06-.94 2.06-2.06.94z\"/><path d=\"M17.41 7.96l-1.37-1.37c-.4-.4-.92-.59-1.43-.59-.52 0-1.04.2-1.43.59L10.3 9.45l-7.72 7.72c-.78.78-.78 2.05 0 2.83L4 21.41c.39.39.9.59 1.41.59.51 0 1.02-.2 1.41-.59l7.78-7.78 2.81-2.81c.8-.78.8-2.07 0-2.86zM5.41 20L4 18.59l7.72-7.72 1.47 1.35L5.41 20z\"/>\n",
              "  </svg>\n",
              "      </button>\n",
              "      \n",
              "  <style>\n",
              "    .colab-df-container {\n",
              "      display:flex;\n",
              "      flex-wrap:wrap;\n",
              "      gap: 12px;\n",
              "    }\n",
              "\n",
              "    .colab-df-convert {\n",
              "      background-color: #E8F0FE;\n",
              "      border: none;\n",
              "      border-radius: 50%;\n",
              "      cursor: pointer;\n",
              "      display: none;\n",
              "      fill: #1967D2;\n",
              "      height: 32px;\n",
              "      padding: 0 0 0 0;\n",
              "      width: 32px;\n",
              "    }\n",
              "\n",
              "    .colab-df-convert:hover {\n",
              "      background-color: #E2EBFA;\n",
              "      box-shadow: 0px 1px 2px rgba(60, 64, 67, 0.3), 0px 1px 3px 1px rgba(60, 64, 67, 0.15);\n",
              "      fill: #174EA6;\n",
              "    }\n",
              "\n",
              "    [theme=dark] .colab-df-convert {\n",
              "      background-color: #3B4455;\n",
              "      fill: #D2E3FC;\n",
              "    }\n",
              "\n",
              "    [theme=dark] .colab-df-convert:hover {\n",
              "      background-color: #434B5C;\n",
              "      box-shadow: 0px 1px 3px 1px rgba(0, 0, 0, 0.15);\n",
              "      filter: drop-shadow(0px 1px 2px rgba(0, 0, 0, 0.3));\n",
              "      fill: #FFFFFF;\n",
              "    }\n",
              "  </style>\n",
              "\n",
              "      <script>\n",
              "        const buttonEl =\n",
              "          document.querySelector('#df-634d2ce7-a61a-4081-a934-ae57d1d1a332 button.colab-df-convert');\n",
              "        buttonEl.style.display =\n",
              "          google.colab.kernel.accessAllowed ? 'block' : 'none';\n",
              "\n",
              "        async function convertToInteractive(key) {\n",
              "          const element = document.querySelector('#df-634d2ce7-a61a-4081-a934-ae57d1d1a332');\n",
              "          const dataTable =\n",
              "            await google.colab.kernel.invokeFunction('convertToInteractive',\n",
              "                                                     [key], {});\n",
              "          if (!dataTable) return;\n",
              "\n",
              "          const docLinkHtml = 'Like what you see? Visit the ' +\n",
              "            '<a target=\"_blank\" href=https://colab.research.google.com/notebooks/data_table.ipynb>data table notebook</a>'\n",
              "            + ' to learn more about interactive tables.';\n",
              "          element.innerHTML = '';\n",
              "          dataTable['output_type'] = 'display_data';\n",
              "          await google.colab.output.renderOutput(dataTable, element);\n",
              "          const docLink = document.createElement('div');\n",
              "          docLink.innerHTML = docLinkHtml;\n",
              "          element.appendChild(docLink);\n",
              "        }\n",
              "      </script>\n",
              "    </div>\n",
              "  </div>\n",
              "  "
            ]
          },
          "metadata": {},
          "execution_count": 57
        }
      ]
    },
    {
      "cell_type": "code",
      "source": [
        ""
      ],
      "metadata": {
        "id": "tmm60tkV3lkz"
      },
      "execution_count": null,
      "outputs": []
    },
    {
      "cell_type": "code",
      "source": [
        "\n",
        "def remove_abb(data):\n",
        "    data = re.sub(r\"he's\", \"he is\", data)\n",
        "    data = re.sub(r\"there's\", \"there is\", data)\n",
        "    data = re.sub(r\"We're\", \"We are\", data)\n",
        "    data = re.sub(r\"That's\", \"That is\", data)\n",
        "    data = re.sub(r\"won't\", \"will not\", data)\n",
        "    data = re.sub(r\"they're\", \"they are\", data)\n",
        "    data = re.sub(r\"Can't\", \"Cannot\", data)\n",
        "    data = re.sub(r\"wasn't\", \"was not\", data)\n",
        "    data = re.sub(r\"don\\x89Ûªt\", \"do not\", data)\n",
        "    data= re.sub(r\"aren't\", \"are not\", data)\n",
        "    data = re.sub(r\"isn't\", \"is not\", data)\n",
        "    data = re.sub(r\"What's\", \"What is\", data)\n",
        "    data = re.sub(r\"haven't\", \"have not\", data)\n",
        "    data = re.sub(r\"hasn't\", \"has not\", data)\n",
        "    data = re.sub(r\"There's\", \"There is\", data)\n",
        "    data = re.sub(r\"He's\", \"He is\", data)\n",
        "    data = re.sub(r\"It's\", \"It is\", data)\n",
        "    data = re.sub(r\"You're\", \"You are\", data)\n",
        "    data = re.sub(r\"I'M\", \"I am\", data)\n",
        "    data = re.sub(r\"shouldn't\", \"should not\", data)\n",
        "    data = re.sub(r\"wouldn't\", \"would not\", data)\n",
        "    data = re.sub(r\"i'm\", \"I am\", data)\n",
        "    data = re.sub(r\"I\\x89Ûªm\", \"I am\", data)\n",
        "    data = re.sub(r\"I'm\", \"I am\", data)\n",
        "    data = re.sub(r\"Isn't\", \"is not\", data)\n",
        "    data = re.sub(r\"Here's\", \"Here is\", data)\n",
        "    data = re.sub(r\"you've\", \"you have\", data)\n",
        "    data = re.sub(r\"you\\x89Ûªve\", \"you have\", data)\n",
        "    data = re.sub(r\"we're\", \"we are\", data)\n",
        "    data = re.sub(r\"what's\", \"what is\", data)\n",
        "    data = re.sub(r\"couldn't\", \"could not\", data)\n",
        "    data = re.sub(r\"we've\", \"we have\", data)\n",
        "    data = re.sub(r\"it\\x89Ûªs\", \"it is\", data)\n",
        "    data = re.sub(r\"doesn\\x89Ûªt\", \"does not\", data)\n",
        "    data = re.sub(r\"It\\x89Ûªs\", \"It is\", data)\n",
        "    data = re.sub(r\"Here\\x89Ûªs\", \"Here is\", data)\n",
        "    data = re.sub(r\"who's\", \"who is\", data)\n",
        "    data = re.sub(r\"I\\x89Ûªve\", \"I have\", data)\n",
        "    data = re.sub(r\"y'all\", \"you all\", data)\n",
        "    data = re.sub(r\"can\\x89Ûªt\", \"cannot\", data)\n",
        "    data = re.sub(r\"would've\", \"would have\", data)\n",
        "    data = re.sub(r\"it'll\", \"it will\", data)\n",
        "    data = re.sub(r\"we'll\", \"we will\", data)\n",
        "    data = re.sub(r\"wouldn\\x89Ûªt\", \"would not\", data)\n",
        "    data = re.sub(r\"We've\", \"We have\", data)\n",
        "    data = re.sub(r\"he'll\", \"he will\", data)\n",
        "    data = re.sub(r\"Y'all\", \"You all\", data)\n",
        "    data = re.sub(r\"Weren't\", \"Were not\", data)\n",
        "    data = re.sub(r\"Didn't\", \"Did not\", data)\n",
        "    data = re.sub(r\"they'll\", \"they will\", data)\n",
        "    data = re.sub(r\"they'd\", \"they would\", data)\n",
        "    data = re.sub(r\"DON'T\", \"DO NOT\", data)\n",
        "    data = re.sub(r\"That\\x89Ûªs\", \"That is\", data)\n",
        "    data = re.sub(r\"they've\", \"they have\", data)\n",
        "    data = re.sub(r\"i'd\", \"I would\", data)\n",
        "    data = re.sub(r\"should've\", \"should have\", data)\n",
        "    data = re.sub(r\"You\\x89Ûªre\", \"You are\", data)\n",
        "    data = re.sub(r\"where's\", \"where is\", data)\n",
        "    data = re.sub(r\"Don\\x89Ûªt\", \"Do not\", data)\n",
        "    data = re.sub(r\"we'd\", \"we would\", data)\n",
        "    data = re.sub(r\"i'll\", \"I will\", data)\n",
        "    data = re.sub(r\"weren't\", \"were not\", data)\n",
        "    data = re.sub(r\"They're\", \"They are\", data)\n",
        "    data = re.sub(r\"Can\\x89Ûªt\", \"Cannot\", data)\n",
        "    data = re.sub(r\"you\\x89Ûªll\", \"you will\", data)\n",
        "    data = re.sub(r\"I\\x89Ûªd\", \"I would\", data)\n",
        "    data = re.sub(r\"let's\", \"let us\", data)\n",
        "    data = re.sub(r\"it's\", \"it is\", data)\n",
        "    data = re.sub(r\"can't\", \"cannot\", data)\n",
        "    data = re.sub(r\"don't\", \"do not\", data)\n",
        "    data = re.sub(r\"you're\", \"you are\", data)\n",
        "    data = re.sub(r\"i've\", \"I have\", data)\n",
        "    data = re.sub(r\"that's\", \"that is\", data)\n",
        "    data = re.sub(r\"i'll\", \"I will\", data)\n",
        "    data = re.sub(r\"doesn't\", \"does not\",data)\n",
        "    data = re.sub(r\"i'd\", \"I would\", data)\n",
        "    data = re.sub(r\"didn't\", \"did not\", data)\n",
        "    data = re.sub(r\"ain't\", \"am not\", data)\n",
        "    data = re.sub(r\"you'll\", \"you will\", data)\n",
        "    data = re.sub(r\"I've\", \"I have\", data)\n",
        "    data = re.sub(r\"Don't\", \"do not\", data)\n",
        "    data = re.sub(r\"I'll\", \"I will\", data)\n",
        "    data = re.sub(r\"I'd\", \"I would\", data)\n",
        "    data = re.sub(r\"Let's\", \"Let us\", data)\n",
        "    data = re.sub(r\"you'd\", \"You would\", data)\n",
        "    data = re.sub(r\"It's\", \"It is\", data)\n",
        "    data = re.sub(r\"Ain't\", \"am not\", data)\n",
        "    data = re.sub(r\"Haven't\", \"Have not\", data)\n",
        "    data = re.sub(r\"Could've\", \"Could have\", data)\n",
        "    data = re.sub(r\"youve\", \"you have\", data)  \n",
        "    data = re.sub(r\"donå«t\", \"do not\", data)  \n",
        "    return data"
      ],
      "metadata": {
        "id": "D2WdK9TwfAPi"
      },
      "execution_count": null,
      "outputs": []
    },
    {
      "cell_type": "code",
      "source": [
        "dataset['text']=dataset['text'].apply(lambda z: remove_abb(z))"
      ],
      "metadata": {
        "id": "r_2_a_f632OC"
      },
      "execution_count": null,
      "outputs": []
    },
    {
      "cell_type": "code",
      "source": [
        "nltk.download('stopwords')\n",
        "stop_words = stopwords.words('english')"
      ],
      "metadata": {
        "colab": {
          "base_uri": "https://localhost:8080/"
        },
        "id": "tZGUmMyb3-kq",
        "outputId": "1f852d69-4658-41a3-d637-7860e67f3b31"
      },
      "execution_count": null,
      "outputs": [
        {
          "output_type": "stream",
          "name": "stderr",
          "text": [
            "[nltk_data] Downloading package stopwords to /root/nltk_data...\n",
            "[nltk_data]   Unzipping corpora/stopwords.zip.\n"
          ]
        }
      ]
    },
    {
      "cell_type": "code",
      "source": [
        "def clean_text(text):\n",
        "    text = text.lower()\n",
        "    text = re.sub('\\[.*?\\]', ' ', text)\n",
        "    text = re.sub('https?://\\S+|www\\.\\S+', ' ', text)\n",
        "    text = re.sub('<.*?>+', ' ', text)\n",
        "    text = re.sub('[%s]' % re.escape(string.punctuation), ' ', text)\n",
        "    text = re.sub('\\n', ' ', text)\n",
        "    text = re.sub('\\w*\\d\\w*', ' ', text)\n",
        "    text = re.sub('\\W', ' ', text)\n",
        "    text = re.sub(r'[-\\(\\)\\\"#\\/@;:<>\\{\\}\\-=~|\\.\\?]', ' ', text)\n",
        "    text = re.sub(r'[^a-zA-Z0-9]', ' ', text)\n",
        "    text = text.split()\n",
        "    text = \" \".join([word for word in text if not word in stop_words])\n",
        "    return text"
      ],
      "metadata": {
        "id": "KuXApv4o3-xT"
      },
      "execution_count": null,
      "outputs": []
    },
    {
      "cell_type": "code",
      "source": [
        "dataset['text']=dataset['text'].apply(lambda z: clean_text(z))"
      ],
      "metadata": {
        "id": "wIJvU2j63-4J"
      },
      "execution_count": null,
      "outputs": []
    },
    {
      "cell_type": "code",
      "source": [
        "nltk.download('wordnet')\n",
        "nltk.download('omw-1.4')"
      ],
      "metadata": {
        "colab": {
          "base_uri": "https://localhost:8080/"
        },
        "id": "fYl2ysJx4aHe",
        "outputId": "33a78c25-7b97-4af0-f8ae-d895547deb77"
      },
      "execution_count": null,
      "outputs": [
        {
          "output_type": "stream",
          "name": "stderr",
          "text": [
            "[nltk_data] Downloading package wordnet to /root/nltk_data...\n",
            "[nltk_data] Downloading package omw-1.4 to /root/nltk_data...\n"
          ]
        },
        {
          "output_type": "execute_result",
          "data": {
            "text/plain": [
              "True"
            ]
          },
          "metadata": {},
          "execution_count": 65
        }
      ]
    },
    {
      "cell_type": "code",
      "source": [
        "from nltk.stem import WordNetLemmatizer\n",
        "\n",
        "lemmatizer = WordNetLemmatizer()\n",
        "lemmatized_words = [lemmatizer.lemmatize(word) for word in dataset['text']]"
      ],
      "metadata": {
        "id": "a3L2iDep4bor"
      },
      "execution_count": null,
      "outputs": []
    },
    {
      "cell_type": "code",
      "source": [
        "dataset['text'] = lemmatized_words"
      ],
      "metadata": {
        "id": "N_ENTXsG4evl"
      },
      "execution_count": null,
      "outputs": []
    },
    {
      "cell_type": "code",
      "source": [
        "dataset['text'][3]"
      ],
      "metadata": {
        "colab": {
          "base_uri": "https://localhost:8080/",
          "height": 53
        },
        "id": "-VCgX10Q4iAI",
        "outputId": "2b568127-2026-4102-ceb2-10899189cb22"
      },
      "execution_count": null,
      "outputs": [
        {
          "output_type": "execute_result",
          "data": {
            "text/plain": [
              "'jim carrey blasts castrato adam schiff democrats new artwork actor gives dems ass kicking fighting hard enough donald trump'"
            ],
            "application/vnd.google.colaboratory.intrinsic+json": {
              "type": "string"
            }
          },
          "metadata": {},
          "execution_count": 68
        }
      ]
    },
    {
      "cell_type": "code",
      "source": [
        "dataset.head()"
      ],
      "metadata": {
        "colab": {
          "base_uri": "https://localhost:8080/",
          "height": 320
        },
        "id": "Qu4DdvxN4qbL",
        "outputId": "cf732c2b-4997-4835-f5b9-19992ac89d10"
      },
      "execution_count": null,
      "outputs": [
        {
          "output_type": "execute_result",
          "data": {
            "text/plain": [
              "                   category  \\\n",
              "0  GENERAL                    \n",
              "1  SPORTS AND ENTERTAINMENT   \n",
              "2  SPORTS AND ENTERTAINMENT   \n",
              "3  SPORTS AND ENTERTAINMENT   \n",
              "4  SPORTS AND ENTERTAINMENT   \n",
              "\n",
              "                                                                                                                           text  \n",
              "0  mass shootings texas last week tv left husband killed children another day america                                            \n",
              "1  smith joins diplo nicky jam world cup official song course song                                                               \n",
              "2  hugh grant marries first time age actor longtime girlfriend anna eberstein tied knot civil ceremony                           \n",
              "3  jim carrey blasts castrato adam schiff democrats new artwork actor gives dems ass kicking fighting hard enough donald trump   \n",
              "4  julianna margulies uses donald trump poop bags pick dog dietland actress said using bags really cathartic therapeutic moment  "
            ],
            "text/html": [
              "\n",
              "  <div id=\"df-519ea593-e7ca-44e3-a69f-917951d1d3b0\">\n",
              "    <div class=\"colab-df-container\">\n",
              "      <div>\n",
              "<style scoped>\n",
              "    .dataframe tbody tr th:only-of-type {\n",
              "        vertical-align: middle;\n",
              "    }\n",
              "\n",
              "    .dataframe tbody tr th {\n",
              "        vertical-align: top;\n",
              "    }\n",
              "\n",
              "    .dataframe thead th {\n",
              "        text-align: right;\n",
              "    }\n",
              "</style>\n",
              "<table border=\"1\" class=\"dataframe\">\n",
              "  <thead>\n",
              "    <tr style=\"text-align: right;\">\n",
              "      <th></th>\n",
              "      <th>category</th>\n",
              "      <th>text</th>\n",
              "    </tr>\n",
              "  </thead>\n",
              "  <tbody>\n",
              "    <tr>\n",
              "      <th>0</th>\n",
              "      <td>GENERAL</td>\n",
              "      <td>mass shootings texas last week tv left husband killed children another day america</td>\n",
              "    </tr>\n",
              "    <tr>\n",
              "      <th>1</th>\n",
              "      <td>SPORTS AND ENTERTAINMENT</td>\n",
              "      <td>smith joins diplo nicky jam world cup official song course song</td>\n",
              "    </tr>\n",
              "    <tr>\n",
              "      <th>2</th>\n",
              "      <td>SPORTS AND ENTERTAINMENT</td>\n",
              "      <td>hugh grant marries first time age actor longtime girlfriend anna eberstein tied knot civil ceremony</td>\n",
              "    </tr>\n",
              "    <tr>\n",
              "      <th>3</th>\n",
              "      <td>SPORTS AND ENTERTAINMENT</td>\n",
              "      <td>jim carrey blasts castrato adam schiff democrats new artwork actor gives dems ass kicking fighting hard enough donald trump</td>\n",
              "    </tr>\n",
              "    <tr>\n",
              "      <th>4</th>\n",
              "      <td>SPORTS AND ENTERTAINMENT</td>\n",
              "      <td>julianna margulies uses donald trump poop bags pick dog dietland actress said using bags really cathartic therapeutic moment</td>\n",
              "    </tr>\n",
              "  </tbody>\n",
              "</table>\n",
              "</div>\n",
              "      <button class=\"colab-df-convert\" onclick=\"convertToInteractive('df-519ea593-e7ca-44e3-a69f-917951d1d3b0')\"\n",
              "              title=\"Convert this dataframe to an interactive table.\"\n",
              "              style=\"display:none;\">\n",
              "        \n",
              "  <svg xmlns=\"http://www.w3.org/2000/svg\" height=\"24px\"viewBox=\"0 0 24 24\"\n",
              "       width=\"24px\">\n",
              "    <path d=\"M0 0h24v24H0V0z\" fill=\"none\"/>\n",
              "    <path d=\"M18.56 5.44l.94 2.06.94-2.06 2.06-.94-2.06-.94-.94-2.06-.94 2.06-2.06.94zm-11 1L8.5 8.5l.94-2.06 2.06-.94-2.06-.94L8.5 2.5l-.94 2.06-2.06.94zm10 10l.94 2.06.94-2.06 2.06-.94-2.06-.94-.94-2.06-.94 2.06-2.06.94z\"/><path d=\"M17.41 7.96l-1.37-1.37c-.4-.4-.92-.59-1.43-.59-.52 0-1.04.2-1.43.59L10.3 9.45l-7.72 7.72c-.78.78-.78 2.05 0 2.83L4 21.41c.39.39.9.59 1.41.59.51 0 1.02-.2 1.41-.59l7.78-7.78 2.81-2.81c.8-.78.8-2.07 0-2.86zM5.41 20L4 18.59l7.72-7.72 1.47 1.35L5.41 20z\"/>\n",
              "  </svg>\n",
              "      </button>\n",
              "      \n",
              "  <style>\n",
              "    .colab-df-container {\n",
              "      display:flex;\n",
              "      flex-wrap:wrap;\n",
              "      gap: 12px;\n",
              "    }\n",
              "\n",
              "    .colab-df-convert {\n",
              "      background-color: #E8F0FE;\n",
              "      border: none;\n",
              "      border-radius: 50%;\n",
              "      cursor: pointer;\n",
              "      display: none;\n",
              "      fill: #1967D2;\n",
              "      height: 32px;\n",
              "      padding: 0 0 0 0;\n",
              "      width: 32px;\n",
              "    }\n",
              "\n",
              "    .colab-df-convert:hover {\n",
              "      background-color: #E2EBFA;\n",
              "      box-shadow: 0px 1px 2px rgba(60, 64, 67, 0.3), 0px 1px 3px 1px rgba(60, 64, 67, 0.15);\n",
              "      fill: #174EA6;\n",
              "    }\n",
              "\n",
              "    [theme=dark] .colab-df-convert {\n",
              "      background-color: #3B4455;\n",
              "      fill: #D2E3FC;\n",
              "    }\n",
              "\n",
              "    [theme=dark] .colab-df-convert:hover {\n",
              "      background-color: #434B5C;\n",
              "      box-shadow: 0px 1px 3px 1px rgba(0, 0, 0, 0.15);\n",
              "      filter: drop-shadow(0px 1px 2px rgba(0, 0, 0, 0.3));\n",
              "      fill: #FFFFFF;\n",
              "    }\n",
              "  </style>\n",
              "\n",
              "      <script>\n",
              "        const buttonEl =\n",
              "          document.querySelector('#df-519ea593-e7ca-44e3-a69f-917951d1d3b0 button.colab-df-convert');\n",
              "        buttonEl.style.display =\n",
              "          google.colab.kernel.accessAllowed ? 'block' : 'none';\n",
              "\n",
              "        async function convertToInteractive(key) {\n",
              "          const element = document.querySelector('#df-519ea593-e7ca-44e3-a69f-917951d1d3b0');\n",
              "          const dataTable =\n",
              "            await google.colab.kernel.invokeFunction('convertToInteractive',\n",
              "                                                     [key], {});\n",
              "          if (!dataTable) return;\n",
              "\n",
              "          const docLinkHtml = 'Like what you see? Visit the ' +\n",
              "            '<a target=\"_blank\" href=https://colab.research.google.com/notebooks/data_table.ipynb>data table notebook</a>'\n",
              "            + ' to learn more about interactive tables.';\n",
              "          element.innerHTML = '';\n",
              "          dataTable['output_type'] = 'display_data';\n",
              "          await google.colab.output.renderOutput(dataTable, element);\n",
              "          const docLink = document.createElement('div');\n",
              "          docLink.innerHTML = docLinkHtml;\n",
              "          element.appendChild(docLink);\n",
              "        }\n",
              "      </script>\n",
              "    </div>\n",
              "  </div>\n",
              "  "
            ]
          },
          "metadata": {},
          "execution_count": 69
        }
      ]
    },
    {
      "cell_type": "code",
      "source": [
        "X,Y = dataset['text'],dataset['category']\n",
        "\n",
        "#80% to train , 20% for testing\n",
        "# X_train, X_val, y_train, y_val = train_test_split(X,Y, test_size=0.2, random_state=42)\n",
        "# X_val, X_test , y_val, y_test= train_test_split(X_val,y_val, test_size=0.5, random_state=42)\n",
        "X_train, X_test, y_train, y_test = train_test_split(X,Y, test_size=0.2, random_state=42)\n",
        "X_train, X_val , y_train, y_val= train_test_split(X_train,y_train, test_size=0.2, random_state=42)\n",
        "# from sklearn.model_selection import train_test_split\n",
        "# X_train, X_test, y_train, y_test = train_test_split(X,Y, test_size=0.2, random_state=42)"
      ],
      "metadata": {
        "id": "G5bNEGidjibc"
      },
      "execution_count": null,
      "outputs": []
    },
    {
      "cell_type": "code",
      "source": [
        ""
      ],
      "metadata": {
        "id": "D56vQxtz3pSd"
      },
      "execution_count": null,
      "outputs": []
    },
    {
      "cell_type": "code",
      "source": [
        "vocab_size =20000\n",
        "max_length = 150\n",
        "trunc_type='post'\n",
        "padding_type='post'\n",
        "oov_tok = \"<OOV>\""
      ],
      "metadata": {
        "id": "cJRjq_tq5-fT"
      },
      "execution_count": null,
      "outputs": []
    },
    {
      "cell_type": "code",
      "source": [
        "tokenizer = tf.keras.preprocessing.text.Tokenizer(num_words = vocab_size, oov_token=oov_tok)\n",
        "tokenizer.fit_on_texts(X_train)\n",
        "\n",
        "word_index = tokenizer.word_index\n",
        "\n",
        "X_train = tokenizer.texts_to_sequences(X_train)\n",
        "X_train = pad_sequences(X_train,maxlen= max_length,padding=padding_type, truncating=trunc_type)\n",
        "y_train = np.asarray(y_train)\n",
        "y_train = pd.get_dummies(y_train)\n",
        "\n",
        "X_val = tokenizer.texts_to_sequences(X_val)\n",
        "X_val = pad_sequences(X_val,maxlen= max_length,padding=padding_type, truncating=trunc_type)\n",
        "y_val = np.asarray(y_val)\n",
        "y_val = pd.get_dummies(y_val)\n",
        "\n",
        "train_set = np.array(X_train)\n",
        "val_set = np.array(X_val)\n",
        "\n",
        "train_label = np.array(y_train)\n",
        "val_label = np.array(y_val)\n",
        "\n",
        "\n",
        "y_test = pd.get_dummies(y_test)\n",
        "y_test = np.asarray(y_test)\n",
        "y_test = np.argmax(y_test,axis=1)   \n",
        "\n",
        "print(train_set.shape)\n",
        "print(train_label.shape)\n",
        "\n",
        "\n",
        "print(val_set.shape)\n",
        "print(val_label.shape)"
      ],
      "metadata": {
        "id": "MLgiJR9n5_H-",
        "colab": {
          "base_uri": "https://localhost:8080/"
        },
        "outputId": "db41a463-33f7-4a6e-e85d-99e5a6877e07"
      },
      "execution_count": null,
      "outputs": [
        {
          "output_type": "stream",
          "name": "stdout",
          "text": [
            "(115681, 150)\n",
            "(115681, 12)\n",
            "(28921, 150)\n",
            "(28921, 12)\n"
          ]
        }
      ]
    },
    {
      "cell_type": "markdown",
      "source": [
        "# Embedding Matrix for our model"
      ],
      "metadata": {
        "id": "htg1cg40mC2n"
      }
    },
    {
      "cell_type": "code",
      "source": [
        "!wget http://nlp.stanford.edu/data/glove.6B.zip #downloadingu glove vec word embeddings"
      ],
      "metadata": {
        "colab": {
          "base_uri": "https://localhost:8080/"
        },
        "id": "c7bUuj-yktMD",
        "outputId": "53b92bd4-c374-4c66-924d-7581c1e6731f"
      },
      "execution_count": null,
      "outputs": [
        {
          "output_type": "stream",
          "name": "stdout",
          "text": [
            "--2022-07-21 09:48:03--  http://nlp.stanford.edu/data/glove.6B.zip\n",
            "Resolving nlp.stanford.edu (nlp.stanford.edu)... 171.64.67.140\n",
            "Connecting to nlp.stanford.edu (nlp.stanford.edu)|171.64.67.140|:80... connected.\n",
            "HTTP request sent, awaiting response... 302 Found\n",
            "Location: https://nlp.stanford.edu/data/glove.6B.zip [following]\n",
            "--2022-07-21 09:48:04--  https://nlp.stanford.edu/data/glove.6B.zip\n",
            "Connecting to nlp.stanford.edu (nlp.stanford.edu)|171.64.67.140|:443... connected.\n",
            "HTTP request sent, awaiting response... 301 Moved Permanently\n",
            "Location: https://downloads.cs.stanford.edu/nlp/data/glove.6B.zip [following]\n",
            "--2022-07-21 09:48:04--  https://downloads.cs.stanford.edu/nlp/data/glove.6B.zip\n",
            "Resolving downloads.cs.stanford.edu (downloads.cs.stanford.edu)... 171.64.64.22\n",
            "Connecting to downloads.cs.stanford.edu (downloads.cs.stanford.edu)|171.64.64.22|:443... connected.\n",
            "HTTP request sent, awaiting response... 200 OK\n",
            "Length: 862182613 (822M) [application/zip]\n",
            "Saving to: ‘glove.6B.zip.4’\n",
            "\n",
            "glove.6B.zip.4        0%[                    ] 375.74K   550KB/s               ^C\n"
          ]
        }
      ]
    },
    {
      "cell_type": "code",
      "source": [
        "!unzip -q glove.6B.zip #unzipping "
      ],
      "metadata": {
        "id": "Uv0K523Mk1S_"
      },
      "execution_count": null,
      "outputs": []
    },
    {
      "cell_type": "code",
      "source": [
        "path_to_glove_file =  './glove.6B.100d.txt'"
      ],
      "metadata": {
        "id": "rampLdiZk5L3"
      },
      "execution_count": null,
      "outputs": []
    },
    {
      "cell_type": "code",
      "source": [
        "num_tokens = len(tokenizer.word_index.items()) + 2\n",
        "embedding_dim = 100\n",
        "hits = 0\n",
        "misses = 0\n",
        "\n",
        "\n",
        "embeddings_index = {}\n",
        "with open(path_to_glove_file) as f:\n",
        "    for line in f:\n",
        "        word, coefs = line.split(maxsplit=1)\n",
        "        coefs = np.fromstring(coefs, \"f\", sep=\" \")\n",
        "        embeddings_index[word] = coefs\n",
        "\n",
        "print(\"Found %s word vectors.\" % len(embeddings_index))\n",
        "\n",
        "\n",
        "embedding_matrix = np.zeros((num_tokens, embedding_dim))\n",
        "for word, i in tokenizer.word_index.items():\n",
        "    embedding_vector = embeddings_index.get(word)\n",
        "    if embedding_vector is not None:\n",
        "\n",
        "        embedding_matrix[i] = embedding_vector\n",
        "        hits += 1\n",
        "    else:\n",
        "        misses += 1\n",
        "print(\"Converted %d words (%d misses)\" % (hits, misses))"
      ],
      "metadata": {
        "colab": {
          "base_uri": "https://localhost:8080/"
        },
        "id": "H6Cp4_YTk_Sg",
        "outputId": "33b85f4b-4f98-4ef7-a062-c97ba1d6d5b9"
      },
      "execution_count": null,
      "outputs": [
        {
          "output_type": "stream",
          "name": "stdout",
          "text": [
            "Found 400000 word vectors.\n",
            "Converted 60089 words (9249 misses)\n"
          ]
        }
      ]
    },
    {
      "cell_type": "markdown",
      "source": [
        "## Modelling & Enhancement"
      ],
      "metadata": {
        "id": "f0IL7Mto5_V9"
      }
    },
    {
      "cell_type": "code",
      "source": [
        "early_stop=tf.keras.callbacks.EarlyStopping(monitor='val_loss', \n",
        "                                            patience=3, min_delta=0.0001)\n",
        "\n",
        "\n",
        "tf.keras.backend.clear_session()\n",
        "embed_size = 100\n",
        "model = keras.models.Sequential([\n",
        "                                 \n",
        "        Embedding(num_tokens,\n",
        "        embedding_dim,\n",
        "        embeddings_initializer=keras.initializers.Constant(embedding_matrix),\n",
        "        mask_zero=True,input_shape=[None],trainable=False),\n",
        "        keras.layers.Bidirectional(keras.layers.LSTM(256, dropout = 0.4)),\n",
        "        keras.layers.Dense(12, activation=\"softmax\")\n",
        "            \n",
        "        ])\n",
        "\n",
        "\n",
        "model.summary()"
      ],
      "metadata": {
        "id": "m9TaE8LJ6ArQ",
        "colab": {
          "base_uri": "https://localhost:8080/"
        },
        "outputId": "0ec1ad93-0868-49f2-a29c-4ccee7a89e43"
      },
      "execution_count": null,
      "outputs": [
        {
          "output_type": "stream",
          "name": "stdout",
          "text": [
            "Model: \"sequential\"\n",
            "_________________________________________________________________\n",
            " Layer (type)                Output Shape              Param #   \n",
            "=================================================================\n",
            " embedding (Embedding)       (None, None, 100)         6934000   \n",
            "                                                                 \n",
            " bidirectional (Bidirectiona  (None, 512)              731136    \n",
            " l)                                                              \n",
            "                                                                 \n",
            " dense (Dense)               (None, 12)                6156      \n",
            "                                                                 \n",
            "=================================================================\n",
            "Total params: 7,671,292\n",
            "Trainable params: 737,292\n",
            "Non-trainable params: 6,934,000\n",
            "_________________________________________________________________\n"
          ]
        }
      ]
    },
    {
      "cell_type": "code",
      "source": [
        "opt = keras.optimizers.Adam(learning_rate=0.001)\n",
        "model.compile(loss=\"categorical_crossentropy\", optimizer=opt, metrics=[\"accuracy\"])\n",
        "history = model.fit( train_set,train_label,\n",
        "                     batch_size = 32,\n",
        "                     steps_per_epoch=len(X_train) // 32, \n",
        "                     validation_data = (val_set , val_label),\n",
        "                     validation_steps = len(val_set)//32, epochs=20,\n",
        "                     callbacks=  early_stop )"
      ],
      "metadata": {
        "id": "vA18wZHM6BTl",
        "colab": {
          "base_uri": "https://localhost:8080/"
        },
        "outputId": "79fe6abf-ab17-487a-d20a-924193612ebe"
      },
      "execution_count": null,
      "outputs": [
        {
          "output_type": "stream",
          "name": "stdout",
          "text": [
            "Epoch 1/20\n",
            "3615/3615 [==============================] - 79s 20ms/step - loss: 1.1461 - accuracy: 0.6325 - val_loss: 0.9737 - val_accuracy: 0.6875\n",
            "Epoch 2/20\n",
            "3615/3615 [==============================] - 70s 19ms/step - loss: 0.9678 - accuracy: 0.6869 - val_loss: 0.9057 - val_accuracy: 0.7082\n",
            "Epoch 3/20\n",
            "3615/3615 [==============================] - 70s 19ms/step - loss: 0.8988 - accuracy: 0.7073 - val_loss: 0.8807 - val_accuracy: 0.7183\n",
            "Epoch 4/20\n",
            "3615/3615 [==============================] - 79s 22ms/step - loss: 0.8465 - accuracy: 0.7238 - val_loss: 0.8649 - val_accuracy: 0.7218\n",
            "Epoch 5/20\n",
            "3615/3615 [==============================] - 69s 19ms/step - loss: 0.8061 - accuracy: 0.7353 - val_loss: 0.8646 - val_accuracy: 0.7216\n",
            "Epoch 6/20\n",
            "3615/3615 [==============================] - 69s 19ms/step - loss: 0.7703 - accuracy: 0.7448 - val_loss: 0.8731 - val_accuracy: 0.7229\n",
            "Epoch 7/20\n",
            "3615/3615 [==============================] - 69s 19ms/step - loss: 0.7390 - accuracy: 0.7538 - val_loss: 0.8809 - val_accuracy: 0.7218\n",
            "Epoch 8/20\n",
            "3615/3615 [==============================] - 70s 19ms/step - loss: 0.7197 - accuracy: 0.7608 - val_loss: 0.8748 - val_accuracy: 0.7240\n"
          ]
        }
      ]
    },
    {
      "cell_type": "markdown",
      "source": [
        "## Final Results and Conclusion"
      ],
      "metadata": {
        "id": "20Av1Qnr6Exd"
      }
    },
    {
      "cell_type": "code",
      "source": [
        "classes = dataset['category'].value_counts().index\n",
        "\n",
        "def prediction(inference_data):\n",
        "    X = tokenizer.texts_to_sequences(inference_data)\n",
        "    X = pad_sequences(X,maxlen= max_length,padding=padding_type, truncating=trunc_type)\n",
        "    pred = model.predict(X)\n",
        "    pred_value = tf.argmax(pred,axis =1).numpy()                \n",
        "    return pred_value"
      ],
      "metadata": {
        "id": "Ltu_J4lpoX6y"
      },
      "execution_count": null,
      "outputs": []
    },
    {
      "cell_type": "code",
      "source": [
        "y_pred = prediction(X_test)\n",
        "print(classification_report(np.asarray(y_test),np.asarray( y_pred)))\n",
        "cf_matrix = confusion_matrix(y_test, y_pred)\n",
        "\n"
      ],
      "metadata": {
        "id": "1yFOIlYX6EZd",
        "colab": {
          "base_uri": "https://localhost:8080/"
        },
        "outputId": "09b3758f-53a1-474f-dc7a-b77e2f5bcce4"
      },
      "execution_count": null,
      "outputs": [
        {
          "output_type": "stream",
          "name": "stdout",
          "text": [
            "              precision    recall  f1-score   support\n",
            "\n",
            "           0       0.62      0.53      0.57      1328\n",
            "           1       0.66      0.50      0.57      2763\n",
            "           2       0.55      0.56      0.56       656\n",
            "           3       0.54      0.35      0.42      1552\n",
            "           4       0.76      0.85      0.80      7716\n",
            "           5       0.74      0.70      0.72      2267\n",
            "           6       0.64      0.81      0.71      2788\n",
            "           7       0.78      0.79      0.78      5922\n",
            "           8       0.58      0.53      0.56       773\n",
            "           9       0.72      0.72      0.72      5054\n",
            "          10       0.81      0.77      0.79      3935\n",
            "          11       0.69      0.72      0.71      1397\n",
            "\n",
            "    accuracy                           0.72     36151\n",
            "   macro avg       0.68      0.65      0.66     36151\n",
            "weighted avg       0.72      0.72      0.72     36151\n",
            "\n"
          ]
        }
      ]
    },
    {
      "cell_type": "code",
      "source": [
        ""
      ],
      "metadata": {
        "id": "L9qtOqBB6J8c"
      },
      "execution_count": null,
      "outputs": []
    }
  ],
  "metadata": {
    "kernelspec": {
      "display_name": "Python 3",
      "language": "python",
      "name": "python3"
    },
    "language_info": {
      "codemirror_mode": {
        "name": "ipython",
        "version": 3
      },
      "file_extension": ".py",
      "mimetype": "text/x-python",
      "name": "python",
      "nbconvert_exporter": "python",
      "pygments_lexer": "ipython3",
      "version": "3.8.5"
    },
    "colab": {
      "name": "NewsClassification_Using_LSTM.ipynb",
      "provenance": [],
      "collapsed_sections": []
    },
    "accelerator": "GPU",
    "gpuClass": "standard"
  },
  "nbformat": 4,
  "nbformat_minor": 0
}